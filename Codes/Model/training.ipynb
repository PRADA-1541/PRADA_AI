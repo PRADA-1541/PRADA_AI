{
 "cells": [
  {
   "cell_type": "code",
   "execution_count": 78,
   "metadata": {},
   "outputs": [],
   "source": [
    "import util\n",
    "import pandas as pd\n",
    "import numpy as np\n",
    "import os"
   ]
  },
  {
   "cell_type": "code",
   "execution_count": 8,
   "metadata": {},
   "outputs": [],
   "source": [
    "class dataConfig:\n",
    "    DATA_PATH = str(os.path.join(os.path.dirname(os.path.curdir), '..\\\\..', 'Dataset'))\n"
   ]
  },
  {
   "cell_type": "code",
   "execution_count": 79,
   "metadata": {},
   "outputs": [],
   "source": [
    "# load the dataset\n",
    "\n",
    "recipes_df = util.get_dataframe(os.path.join(dataConfig.DATA_PATH, 'PP_recipes.csv'))\n",
    "\n",
    "#users_df = util.get_dataframe(os.path.join('..', '..', 'Dataset', 'PP_users.csv'))\n",
    "\n",
    "#test_df = util.get_dataframe(os.path.join('..', '..', 'Dataset', 'interactions_test.csv'))\n",
    "\n",
    "#train_df = util.get_dataframe(os.path.join('..', '..', 'Dataset', 'interactions_train.csv'))\n",
    "\n",
    "#validation_df = util.get_dataframe(os.path.join('..', '..', 'Dataset', 'interactions_validation.csv'))"
   ]
  },
  {
   "cell_type": "code",
   "execution_count": 86,
   "metadata": {},
   "outputs": [
    {
     "name": "stdout",
     "output_type": "stream",
     "text": [
      "12.940132141113281\n",
      "2.741039276123047\n"
     ]
    }
   ],
   "source": [
    "# 메모리 사용량 확인\n",
    "import psutil\n",
    "\n",
    "# 현재 사용중인 메모리 (Gib)\n",
    "print(psutil.virtual_memory().used / 1024 / 1024 / 1024)\n",
    "\n",
    "# 현재 사용중인 메모리 중에서 사용 가능한 메모리\n",
    "print(psutil.virtual_memory().available / 1024 / 1024 / 1024)\n"
   ]
  },
  {
   "cell_type": "code",
   "execution_count": 17,
   "metadata": {},
   "outputs": [
    {
     "data": {
      "text/html": [
       "<div>\n",
       "<style scoped>\n",
       "    .dataframe tbody tr th:only-of-type {\n",
       "        vertical-align: middle;\n",
       "    }\n",
       "\n",
       "    .dataframe tbody tr th {\n",
       "        vertical-align: top;\n",
       "    }\n",
       "\n",
       "    .dataframe thead th {\n",
       "        text-align: right;\n",
       "    }\n",
       "</style>\n",
       "<table border=\"1\" class=\"dataframe\">\n",
       "  <thead>\n",
       "    <tr style=\"text-align: right;\">\n",
       "      <th></th>\n",
       "      <th>id</th>\n",
       "      <th>i</th>\n",
       "      <th>ingredient_ids</th>\n",
       "    </tr>\n",
       "  </thead>\n",
       "  <tbody>\n",
       "    <tr>\n",
       "      <th>0</th>\n",
       "      <td>424415</td>\n",
       "      <td>23</td>\n",
       "      <td>[389, 7655, 6270, 1527, 3406]</td>\n",
       "    </tr>\n",
       "    <tr>\n",
       "      <th>1</th>\n",
       "      <td>146223</td>\n",
       "      <td>96900</td>\n",
       "      <td>[2683, 4969, 800, 5298, 840, 2499, 6632, 7022,...</td>\n",
       "    </tr>\n",
       "    <tr>\n",
       "      <th>2</th>\n",
       "      <td>312329</td>\n",
       "      <td>120056</td>\n",
       "      <td>[1257, 7655, 6270, 590, 5024, 1119, 4883, 6696...</td>\n",
       "    </tr>\n",
       "    <tr>\n",
       "      <th>3</th>\n",
       "      <td>74301</td>\n",
       "      <td>168258</td>\n",
       "      <td>[7940, 3609, 7060, 6265, 1170, 6654, 5003, 3561]</td>\n",
       "    </tr>\n",
       "    <tr>\n",
       "      <th>4</th>\n",
       "      <td>76272</td>\n",
       "      <td>109030</td>\n",
       "      <td>[3484, 6324, 7594, 243]</td>\n",
       "    </tr>\n",
       "    <tr>\n",
       "      <th>...</th>\n",
       "      <td>...</td>\n",
       "      <td>...</td>\n",
       "      <td>...</td>\n",
       "    </tr>\n",
       "    <tr>\n",
       "      <th>178260</th>\n",
       "      <td>323143</td>\n",
       "      <td>76862</td>\n",
       "      <td>[840, 208, 2499, 2683, 1925, 335, 1511]</td>\n",
       "    </tr>\n",
       "    <tr>\n",
       "      <th>178261</th>\n",
       "      <td>149114</td>\n",
       "      <td>145962</td>\n",
       "      <td>[2499, 4717, 1168, 6270, 6324, 7040]</td>\n",
       "    </tr>\n",
       "    <tr>\n",
       "      <th>178262</th>\n",
       "      <td>34200</td>\n",
       "      <td>65066</td>\n",
       "      <td>[2378, 7655, 3219, 2320, 5168, 5319, 4189, 268...</td>\n",
       "    </tr>\n",
       "    <tr>\n",
       "      <th>178263</th>\n",
       "      <td>30618</td>\n",
       "      <td>77358</td>\n",
       "      <td>[5627, 2807, 5412, 3399, 7979, 1093, 1257, 780...</td>\n",
       "    </tr>\n",
       "    <tr>\n",
       "      <th>178264</th>\n",
       "      <td>263840</td>\n",
       "      <td>137160</td>\n",
       "      <td>[6473, 800, 4807, 2683, 335, 1563, 1511, 3248,...</td>\n",
       "    </tr>\n",
       "  </tbody>\n",
       "</table>\n",
       "<p>178265 rows × 3 columns</p>\n",
       "</div>"
      ],
      "text/plain": [
       "            id       i                                     ingredient_ids\n",
       "0       424415      23                      [389, 7655, 6270, 1527, 3406]\n",
       "1       146223   96900  [2683, 4969, 800, 5298, 840, 2499, 6632, 7022,...\n",
       "2       312329  120056  [1257, 7655, 6270, 590, 5024, 1119, 4883, 6696...\n",
       "3        74301  168258   [7940, 3609, 7060, 6265, 1170, 6654, 5003, 3561]\n",
       "4        76272  109030                            [3484, 6324, 7594, 243]\n",
       "...        ...     ...                                                ...\n",
       "178260  323143   76862            [840, 208, 2499, 2683, 1925, 335, 1511]\n",
       "178261  149114  145962               [2499, 4717, 1168, 6270, 6324, 7040]\n",
       "178262   34200   65066  [2378, 7655, 3219, 2320, 5168, 5319, 4189, 268...\n",
       "178263   30618   77358  [5627, 2807, 5412, 3399, 7979, 1093, 1257, 780...\n",
       "178264  263840  137160  [6473, 800, 4807, 2683, 335, 1563, 1511, 3248,...\n",
       "\n",
       "[178265 rows x 3 columns]"
      ]
     },
     "execution_count": 17,
     "metadata": {},
     "output_type": "execute_result"
    }
   ],
   "source": [
    "recipes_df.head()\n",
    "\n",
    "recipes_df = recipes_df[['id', 'i', 'ingredient_ids']]\n",
    "recipes_df"
   ]
  },
  {
   "cell_type": "code",
   "execution_count": 18,
   "metadata": {},
   "outputs": [
    {
     "data": {
      "text/html": [
       "<div>\n",
       "<style scoped>\n",
       "    .dataframe tbody tr th:only-of-type {\n",
       "        vertical-align: middle;\n",
       "    }\n",
       "\n",
       "    .dataframe tbody tr th {\n",
       "        vertical-align: top;\n",
       "    }\n",
       "\n",
       "    .dataframe thead th {\n",
       "        text-align: right;\n",
       "    }\n",
       "</style>\n",
       "<table border=\"1\" class=\"dataframe\">\n",
       "  <thead>\n",
       "    <tr style=\"text-align: right;\">\n",
       "      <th></th>\n",
       "      <th>u</th>\n",
       "      <th>items</th>\n",
       "      <th>ratings</th>\n",
       "    </tr>\n",
       "  </thead>\n",
       "  <tbody>\n",
       "    <tr>\n",
       "      <th>0</th>\n",
       "      <td>0</td>\n",
       "      <td>[1118, 27680, 32541, 137353, 16428, 28815, 658...</td>\n",
       "      <td>[5.0, 5.0, 5.0, 5.0, 5.0, 5.0, 5.0, 4.0, 4.0, ...</td>\n",
       "    </tr>\n",
       "    <tr>\n",
       "      <th>1</th>\n",
       "      <td>1</td>\n",
       "      <td>[122140, 77036, 156817, 76957, 68818, 155600, ...</td>\n",
       "      <td>[5.0, 5.0, 5.0, 5.0, 5.0, 5.0, 5.0, 5.0, 5.0, ...</td>\n",
       "    </tr>\n",
       "    <tr>\n",
       "      <th>2</th>\n",
       "      <td>2</td>\n",
       "      <td>[168054, 87218, 35731, 1, 20475, 9039, 124834,...</td>\n",
       "      <td>[3.0, 4.0, 4.0, 4.0, 4.0, 4.0, 4.0, 4.0, 5.0, ...</td>\n",
       "    </tr>\n",
       "    <tr>\n",
       "      <th>3</th>\n",
       "      <td>3</td>\n",
       "      <td>[163193, 156352, 102888, 19914, 169438, 55772,...</td>\n",
       "      <td>[5.0, 5.0, 5.0, 5.0, 4.0, 4.0, 5.0, 5.0, 5.0, ...</td>\n",
       "    </tr>\n",
       "    <tr>\n",
       "      <th>4</th>\n",
       "      <td>4</td>\n",
       "      <td>[72857, 38652, 160427, 55772, 119999, 141777, ...</td>\n",
       "      <td>[5.0, 5.0, 5.0, 5.0, 4.0, 4.0, 5.0, 4.0, 5.0, ...</td>\n",
       "    </tr>\n",
       "    <tr>\n",
       "      <th>...</th>\n",
       "      <td>...</td>\n",
       "      <td>...</td>\n",
       "      <td>...</td>\n",
       "    </tr>\n",
       "    <tr>\n",
       "      <th>25071</th>\n",
       "      <td>25071</td>\n",
       "      <td>[144172, 154054]</td>\n",
       "      <td>[5.0, 5.0]</td>\n",
       "    </tr>\n",
       "    <tr>\n",
       "      <th>25072</th>\n",
       "      <td>25072</td>\n",
       "      <td>[162436, 148228]</td>\n",
       "      <td>[5.0, 5.0]</td>\n",
       "    </tr>\n",
       "    <tr>\n",
       "      <th>25073</th>\n",
       "      <td>25073</td>\n",
       "      <td>[162681, 172034]</td>\n",
       "      <td>[5.0, 5.0]</td>\n",
       "    </tr>\n",
       "    <tr>\n",
       "      <th>25074</th>\n",
       "      <td>25074</td>\n",
       "      <td>[157808, 159896]</td>\n",
       "      <td>[5.0, 5.0]</td>\n",
       "    </tr>\n",
       "    <tr>\n",
       "      <th>25075</th>\n",
       "      <td>25075</td>\n",
       "      <td>[166686, 157084]</td>\n",
       "      <td>[4.0, 4.0]</td>\n",
       "    </tr>\n",
       "  </tbody>\n",
       "</table>\n",
       "<p>25076 rows × 3 columns</p>\n",
       "</div>"
      ],
      "text/plain": [
       "           u                                              items  \\\n",
       "0          0  [1118, 27680, 32541, 137353, 16428, 28815, 658...   \n",
       "1          1  [122140, 77036, 156817, 76957, 68818, 155600, ...   \n",
       "2          2  [168054, 87218, 35731, 1, 20475, 9039, 124834,...   \n",
       "3          3  [163193, 156352, 102888, 19914, 169438, 55772,...   \n",
       "4          4  [72857, 38652, 160427, 55772, 119999, 141777, ...   \n",
       "...      ...                                                ...   \n",
       "25071  25071                                   [144172, 154054]   \n",
       "25072  25072                                   [162436, 148228]   \n",
       "25073  25073                                   [162681, 172034]   \n",
       "25074  25074                                   [157808, 159896]   \n",
       "25075  25075                                   [166686, 157084]   \n",
       "\n",
       "                                                 ratings  \n",
       "0      [5.0, 5.0, 5.0, 5.0, 5.0, 5.0, 5.0, 4.0, 4.0, ...  \n",
       "1      [5.0, 5.0, 5.0, 5.0, 5.0, 5.0, 5.0, 5.0, 5.0, ...  \n",
       "2      [3.0, 4.0, 4.0, 4.0, 4.0, 4.0, 4.0, 4.0, 5.0, ...  \n",
       "3      [5.0, 5.0, 5.0, 5.0, 4.0, 4.0, 5.0, 5.0, 5.0, ...  \n",
       "4      [5.0, 5.0, 5.0, 5.0, 4.0, 4.0, 5.0, 4.0, 5.0, ...  \n",
       "...                                                  ...  \n",
       "25071                                         [5.0, 5.0]  \n",
       "25072                                         [5.0, 5.0]  \n",
       "25073                                         [5.0, 5.0]  \n",
       "25074                                         [5.0, 5.0]  \n",
       "25075                                         [4.0, 4.0]  \n",
       "\n",
       "[25076 rows x 3 columns]"
      ]
     },
     "execution_count": 18,
     "metadata": {},
     "output_type": "execute_result"
    }
   ],
   "source": [
    "users_df = users_df[['u', 'items', 'ratings']]\n",
    "\n",
    "users_df"
   ]
  },
  {
   "cell_type": "code",
   "execution_count": 13,
   "metadata": {},
   "outputs": [
    {
     "data": {
      "text/html": [
       "<div>\n",
       "<style scoped>\n",
       "    .dataframe tbody tr th:only-of-type {\n",
       "        vertical-align: middle;\n",
       "    }\n",
       "\n",
       "    .dataframe tbody tr th {\n",
       "        vertical-align: top;\n",
       "    }\n",
       "\n",
       "    .dataframe thead th {\n",
       "        text-align: right;\n",
       "    }\n",
       "</style>\n",
       "<table border=\"1\" class=\"dataframe\">\n",
       "  <thead>\n",
       "    <tr style=\"text-align: right;\">\n",
       "      <th></th>\n",
       "      <th>user_id</th>\n",
       "      <th>recipe_id</th>\n",
       "      <th>date</th>\n",
       "      <th>rating</th>\n",
       "      <th>u</th>\n",
       "      <th>i</th>\n",
       "    </tr>\n",
       "  </thead>\n",
       "  <tbody>\n",
       "    <tr>\n",
       "      <th>0</th>\n",
       "      <td>8937</td>\n",
       "      <td>44551</td>\n",
       "      <td>2005-12-23</td>\n",
       "      <td>4.0</td>\n",
       "      <td>2</td>\n",
       "      <td>173538</td>\n",
       "    </tr>\n",
       "    <tr>\n",
       "      <th>1</th>\n",
       "      <td>56680</td>\n",
       "      <td>126118</td>\n",
       "      <td>2006-10-07</td>\n",
       "      <td>4.0</td>\n",
       "      <td>16</td>\n",
       "      <td>177847</td>\n",
       "    </tr>\n",
       "    <tr>\n",
       "      <th>2</th>\n",
       "      <td>349752</td>\n",
       "      <td>219596</td>\n",
       "      <td>2008-04-12</td>\n",
       "      <td>0.0</td>\n",
       "      <td>26</td>\n",
       "      <td>89896</td>\n",
       "    </tr>\n",
       "    <tr>\n",
       "      <th>3</th>\n",
       "      <td>628951</td>\n",
       "      <td>82783</td>\n",
       "      <td>2007-11-13</td>\n",
       "      <td>2.0</td>\n",
       "      <td>45</td>\n",
       "      <td>172637</td>\n",
       "    </tr>\n",
       "    <tr>\n",
       "      <th>4</th>\n",
       "      <td>92816</td>\n",
       "      <td>435013</td>\n",
       "      <td>2013-07-31</td>\n",
       "      <td>3.0</td>\n",
       "      <td>52</td>\n",
       "      <td>177935</td>\n",
       "    </tr>\n",
       "    <tr>\n",
       "      <th>...</th>\n",
       "      <td>...</td>\n",
       "      <td>...</td>\n",
       "      <td>...</td>\n",
       "      <td>...</td>\n",
       "      <td>...</td>\n",
       "      <td>...</td>\n",
       "    </tr>\n",
       "    <tr>\n",
       "      <th>12450</th>\n",
       "      <td>101053</td>\n",
       "      <td>179011</td>\n",
       "      <td>2009-01-03</td>\n",
       "      <td>5.0</td>\n",
       "      <td>25054</td>\n",
       "      <td>130258</td>\n",
       "    </tr>\n",
       "    <tr>\n",
       "      <th>12451</th>\n",
       "      <td>252205</td>\n",
       "      <td>81398</td>\n",
       "      <td>2005-12-26</td>\n",
       "      <td>2.0</td>\n",
       "      <td>25055</td>\n",
       "      <td>152255</td>\n",
       "    </tr>\n",
       "    <tr>\n",
       "      <th>12452</th>\n",
       "      <td>624305</td>\n",
       "      <td>142984</td>\n",
       "      <td>2011-01-15</td>\n",
       "      <td>1.0</td>\n",
       "      <td>25057</td>\n",
       "      <td>139864</td>\n",
       "    </tr>\n",
       "    <tr>\n",
       "      <th>12453</th>\n",
       "      <td>173575</td>\n",
       "      <td>104842</td>\n",
       "      <td>2004-12-18</td>\n",
       "      <td>3.0</td>\n",
       "      <td>25059</td>\n",
       "      <td>140646</td>\n",
       "    </tr>\n",
       "    <tr>\n",
       "      <th>12454</th>\n",
       "      <td>1249650</td>\n",
       "      <td>287280</td>\n",
       "      <td>2009-04-28</td>\n",
       "      <td>4.0</td>\n",
       "      <td>25070</td>\n",
       "      <td>166028</td>\n",
       "    </tr>\n",
       "  </tbody>\n",
       "</table>\n",
       "<p>12455 rows × 6 columns</p>\n",
       "</div>"
      ],
      "text/plain": [
       "       user_id  recipe_id        date  rating      u       i\n",
       "0         8937      44551  2005-12-23     4.0      2  173538\n",
       "1        56680     126118  2006-10-07     4.0     16  177847\n",
       "2       349752     219596  2008-04-12     0.0     26   89896\n",
       "3       628951      82783  2007-11-13     2.0     45  172637\n",
       "4        92816     435013  2013-07-31     3.0     52  177935\n",
       "...        ...        ...         ...     ...    ...     ...\n",
       "12450   101053     179011  2009-01-03     5.0  25054  130258\n",
       "12451   252205      81398  2005-12-26     2.0  25055  152255\n",
       "12452   624305     142984  2011-01-15     1.0  25057  139864\n",
       "12453   173575     104842  2004-12-18     3.0  25059  140646\n",
       "12454  1249650     287280  2009-04-28     4.0  25070  166028\n",
       "\n",
       "[12455 rows x 6 columns]"
      ]
     },
     "execution_count": 13,
     "metadata": {},
     "output_type": "execute_result"
    }
   ],
   "source": [
    "test_df"
   ]
  },
  {
   "cell_type": "code",
   "execution_count": 24,
   "metadata": {},
   "outputs": [
    {
     "data": {
      "text/html": [
       "<div>\n",
       "<style scoped>\n",
       "    .dataframe tbody tr th:only-of-type {\n",
       "        vertical-align: middle;\n",
       "    }\n",
       "\n",
       "    .dataframe tbody tr th {\n",
       "        vertical-align: top;\n",
       "    }\n",
       "\n",
       "    .dataframe thead th {\n",
       "        text-align: right;\n",
       "    }\n",
       "</style>\n",
       "<table border=\"1\" class=\"dataframe\">\n",
       "  <thead>\n",
       "    <tr style=\"text-align: right;\">\n",
       "      <th></th>\n",
       "      <th>id</th>\n",
       "      <th>i</th>\n",
       "      <th>ingredient_ids</th>\n",
       "    </tr>\n",
       "  </thead>\n",
       "  <tbody>\n",
       "    <tr>\n",
       "      <th>0</th>\n",
       "      <td>424415</td>\n",
       "      <td>23</td>\n",
       "      <td>[389, 7655, 6270, 1527, 3406]</td>\n",
       "    </tr>\n",
       "    <tr>\n",
       "      <th>1</th>\n",
       "      <td>146223</td>\n",
       "      <td>96900</td>\n",
       "      <td>[2683, 4969, 800, 5298, 840, 2499, 6632, 7022,...</td>\n",
       "    </tr>\n",
       "    <tr>\n",
       "      <th>2</th>\n",
       "      <td>312329</td>\n",
       "      <td>120056</td>\n",
       "      <td>[1257, 7655, 6270, 590, 5024, 1119, 4883, 6696...</td>\n",
       "    </tr>\n",
       "    <tr>\n",
       "      <th>3</th>\n",
       "      <td>74301</td>\n",
       "      <td>168258</td>\n",
       "      <td>[7940, 3609, 7060, 6265, 1170, 6654, 5003, 3561]</td>\n",
       "    </tr>\n",
       "    <tr>\n",
       "      <th>4</th>\n",
       "      <td>76272</td>\n",
       "      <td>109030</td>\n",
       "      <td>[3484, 6324, 7594, 243]</td>\n",
       "    </tr>\n",
       "    <tr>\n",
       "      <th>...</th>\n",
       "      <td>...</td>\n",
       "      <td>...</td>\n",
       "      <td>...</td>\n",
       "    </tr>\n",
       "    <tr>\n",
       "      <th>178260</th>\n",
       "      <td>323143</td>\n",
       "      <td>76862</td>\n",
       "      <td>[840, 208, 2499, 2683, 1925, 335, 1511]</td>\n",
       "    </tr>\n",
       "    <tr>\n",
       "      <th>178261</th>\n",
       "      <td>149114</td>\n",
       "      <td>145962</td>\n",
       "      <td>[2499, 4717, 1168, 6270, 6324, 7040]</td>\n",
       "    </tr>\n",
       "    <tr>\n",
       "      <th>178262</th>\n",
       "      <td>34200</td>\n",
       "      <td>65066</td>\n",
       "      <td>[2378, 7655, 3219, 2320, 5168, 5319, 4189, 268...</td>\n",
       "    </tr>\n",
       "    <tr>\n",
       "      <th>178263</th>\n",
       "      <td>30618</td>\n",
       "      <td>77358</td>\n",
       "      <td>[5627, 2807, 5412, 3399, 7979, 1093, 1257, 780...</td>\n",
       "    </tr>\n",
       "    <tr>\n",
       "      <th>178264</th>\n",
       "      <td>263840</td>\n",
       "      <td>137160</td>\n",
       "      <td>[6473, 800, 4807, 2683, 335, 1563, 1511, 3248,...</td>\n",
       "    </tr>\n",
       "  </tbody>\n",
       "</table>\n",
       "<p>178265 rows × 3 columns</p>\n",
       "</div>"
      ],
      "text/plain": [
       "            id       i                                     ingredient_ids\n",
       "0       424415      23                      [389, 7655, 6270, 1527, 3406]\n",
       "1       146223   96900  [2683, 4969, 800, 5298, 840, 2499, 6632, 7022,...\n",
       "2       312329  120056  [1257, 7655, 6270, 590, 5024, 1119, 4883, 6696...\n",
       "3        74301  168258   [7940, 3609, 7060, 6265, 1170, 6654, 5003, 3561]\n",
       "4        76272  109030                            [3484, 6324, 7594, 243]\n",
       "...        ...     ...                                                ...\n",
       "178260  323143   76862            [840, 208, 2499, 2683, 1925, 335, 1511]\n",
       "178261  149114  145962               [2499, 4717, 1168, 6270, 6324, 7040]\n",
       "178262   34200   65066  [2378, 7655, 3219, 2320, 5168, 5319, 4189, 268...\n",
       "178263   30618   77358  [5627, 2807, 5412, 3399, 7979, 1093, 1257, 780...\n",
       "178264  263840  137160  [6473, 800, 4807, 2683, 335, 1563, 1511, 3248,...\n",
       "\n",
       "[178265 rows x 3 columns]"
      ]
     },
     "execution_count": 24,
     "metadata": {},
     "output_type": "execute_result"
    }
   ],
   "source": [
    "recipes_df"
   ]
  },
  {
   "cell_type": "code",
   "execution_count": 53,
   "metadata": {},
   "outputs": [
    {
     "name": "stdout",
     "output_type": "stream",
     "text": [
      "0 178264\n"
     ]
    }
   ],
   "source": [
    "new_ids = recipes_df['i'].values\n",
    "\n",
    "print(min(new_ids), max(new_ids))"
   ]
  },
  {
   "cell_type": "code",
   "execution_count": 55,
   "metadata": {},
   "outputs": [
    {
     "data": {
      "text/plain": [
       "(178265, 8023)"
      ]
     },
     "execution_count": 55,
     "metadata": {},
     "output_type": "execute_result"
    }
   ],
   "source": [
    "# 총 ingredient 개수\n",
    "ingredients = [] \n",
    "for ing_set in recipes_df['ingredient_ids'].values:\n",
    "    # int array로 변환\n",
    "    ing_list = ing_set.strip('[').strip(']').split(',')\n",
    "    ing_list = [int(i) for i in ing_list]\n",
    "    for ingredient in ing_list:\n",
    "        ingredients.append(ingredient) if ingredient not in ingredients else None\n",
    "        \n",
    "total_ingredients_num = max(ingredients)+1\n",
    "    \n",
    "\n",
    "# cocktail 프로필 만들기\n",
    "cocktail_profile = np.zeros((recipes_df.shape[0], total_ingredients_num))\n",
    "for i in range(recipes_df.shape[0]):\n",
    "\n",
    "    # cocktail id\n",
    "    cocktail_id = recipes_df.iloc[i]['id']\n",
    "    \n",
    "    # cocktail에 들어가는 ingredient id\n",
    "    ing_set = recipes_df.iloc[i]['ingredient_ids']\n",
    "    ing_list = ing_set.strip('[').strip(']').split(',')\n",
    "    ing_list = [int(i) for i in ing_list]\n",
    "    \n",
    "    # cocktail profile\n",
    "    for ing in ing_list:\n",
    "        cocktail_profile[i][ing] = 1\n",
    "\n",
    "cocktail_profile.shape\n"
   ]
  },
  {
   "cell_type": "code",
   "execution_count": 77,
   "metadata": {},
   "outputs": [
    {
     "ename": "MemoryError",
     "evalue": "Unable to allocate 8.52 GiB for an array with shape (142612, 8023) and data type float64",
     "output_type": "error",
     "traceback": [
      "\u001b[1;31m---------------------------------------------------------------------------\u001b[0m",
      "\u001b[1;31mMemoryError\u001b[0m                               Traceback (most recent call last)",
      "Cell \u001b[1;32mIn[77], line 5\u001b[0m\n\u001b[0;32m      2\u001b[0m \u001b[39mfrom\u001b[39;00m \u001b[39msklearn\u001b[39;00m\u001b[39m.\u001b[39;00m\u001b[39mmodel_selection\u001b[39;00m \u001b[39mimport\u001b[39;00m train_test_split\n\u001b[0;32m      4\u001b[0m \u001b[39m# test\u001b[39;00m\n\u001b[1;32m----> 5\u001b[0m train, test \u001b[39m=\u001b[39m train_test_split(cocktail_profile, test_size\u001b[39m=\u001b[39;49m\u001b[39m0.2\u001b[39;49m, random_state\u001b[39m=\u001b[39;49m\u001b[39m10\u001b[39;49m)\n\u001b[0;32m      7\u001b[0m \u001b[39m# train, validation\u001b[39;00m\n\u001b[0;32m      8\u001b[0m train, validation \u001b[39m=\u001b[39m train_test_split(train, test_size\u001b[39m=\u001b[39m\u001b[39m0.2\u001b[39m, random_state\u001b[39m=\u001b[39m\u001b[39m10\u001b[39m)\n",
      "File \u001b[1;32mc:\\Users\\gmk_0\\OneDrive\\바탕 화면\\myWork\\아주대학교\\4-1\\파란학기\\PRADA_AI\\venv\\lib\\site-packages\\sklearn\\model_selection\\_split.py:2585\u001b[0m, in \u001b[0;36mtrain_test_split\u001b[1;34m(test_size, train_size, random_state, shuffle, stratify, *arrays)\u001b[0m\n\u001b[0;32m   2581\u001b[0m     cv \u001b[39m=\u001b[39m CVClass(test_size\u001b[39m=\u001b[39mn_test, train_size\u001b[39m=\u001b[39mn_train, random_state\u001b[39m=\u001b[39mrandom_state)\n\u001b[0;32m   2583\u001b[0m     train, test \u001b[39m=\u001b[39m \u001b[39mnext\u001b[39m(cv\u001b[39m.\u001b[39msplit(X\u001b[39m=\u001b[39marrays[\u001b[39m0\u001b[39m], y\u001b[39m=\u001b[39mstratify))\n\u001b[1;32m-> 2585\u001b[0m \u001b[39mreturn\u001b[39;00m \u001b[39mlist\u001b[39;49m(\n\u001b[0;32m   2586\u001b[0m     chain\u001b[39m.\u001b[39;49mfrom_iterable(\n\u001b[0;32m   2587\u001b[0m         (_safe_indexing(a, train), _safe_indexing(a, test)) \u001b[39mfor\u001b[39;49;00m a \u001b[39min\u001b[39;49;00m arrays\n\u001b[0;32m   2588\u001b[0m     )\n\u001b[0;32m   2589\u001b[0m )\n",
      "File \u001b[1;32mc:\\Users\\gmk_0\\OneDrive\\바탕 화면\\myWork\\아주대학교\\4-1\\파란학기\\PRADA_AI\\venv\\lib\\site-packages\\sklearn\\model_selection\\_split.py:2587\u001b[0m, in \u001b[0;36m<genexpr>\u001b[1;34m(.0)\u001b[0m\n\u001b[0;32m   2581\u001b[0m     cv \u001b[39m=\u001b[39m CVClass(test_size\u001b[39m=\u001b[39mn_test, train_size\u001b[39m=\u001b[39mn_train, random_state\u001b[39m=\u001b[39mrandom_state)\n\u001b[0;32m   2583\u001b[0m     train, test \u001b[39m=\u001b[39m \u001b[39mnext\u001b[39m(cv\u001b[39m.\u001b[39msplit(X\u001b[39m=\u001b[39marrays[\u001b[39m0\u001b[39m], y\u001b[39m=\u001b[39mstratify))\n\u001b[0;32m   2585\u001b[0m \u001b[39mreturn\u001b[39;00m \u001b[39mlist\u001b[39m(\n\u001b[0;32m   2586\u001b[0m     chain\u001b[39m.\u001b[39mfrom_iterable(\n\u001b[1;32m-> 2587\u001b[0m         (_safe_indexing(a, train), _safe_indexing(a, test)) \u001b[39mfor\u001b[39;00m a \u001b[39min\u001b[39;00m arrays\n\u001b[0;32m   2588\u001b[0m     )\n\u001b[0;32m   2589\u001b[0m )\n",
      "File \u001b[1;32mc:\\Users\\gmk_0\\OneDrive\\바탕 화면\\myWork\\아주대학교\\4-1\\파란학기\\PRADA_AI\\venv\\lib\\site-packages\\sklearn\\utils\\__init__.py:356\u001b[0m, in \u001b[0;36m_safe_indexing\u001b[1;34m(X, indices, axis)\u001b[0m\n\u001b[0;32m    354\u001b[0m     \u001b[39mreturn\u001b[39;00m _pandas_indexing(X, indices, indices_dtype, axis\u001b[39m=\u001b[39maxis)\n\u001b[0;32m    355\u001b[0m \u001b[39melif\u001b[39;00m \u001b[39mhasattr\u001b[39m(X, \u001b[39m\"\u001b[39m\u001b[39mshape\u001b[39m\u001b[39m\"\u001b[39m):\n\u001b[1;32m--> 356\u001b[0m     \u001b[39mreturn\u001b[39;00m _array_indexing(X, indices, indices_dtype, axis\u001b[39m=\u001b[39;49maxis)\n\u001b[0;32m    357\u001b[0m \u001b[39melse\u001b[39;00m:\n\u001b[0;32m    358\u001b[0m     \u001b[39mreturn\u001b[39;00m _list_indexing(X, indices, indices_dtype)\n",
      "File \u001b[1;32mc:\\Users\\gmk_0\\OneDrive\\바탕 화면\\myWork\\아주대학교\\4-1\\파란학기\\PRADA_AI\\venv\\lib\\site-packages\\sklearn\\utils\\__init__.py:185\u001b[0m, in \u001b[0;36m_array_indexing\u001b[1;34m(array, key, key_dtype, axis)\u001b[0m\n\u001b[0;32m    183\u001b[0m \u001b[39mif\u001b[39;00m \u001b[39misinstance\u001b[39m(key, \u001b[39mtuple\u001b[39m):\n\u001b[0;32m    184\u001b[0m     key \u001b[39m=\u001b[39m \u001b[39mlist\u001b[39m(key)\n\u001b[1;32m--> 185\u001b[0m \u001b[39mreturn\u001b[39;00m array[key] \u001b[39mif\u001b[39;00m axis \u001b[39m==\u001b[39m \u001b[39m0\u001b[39m \u001b[39melse\u001b[39;00m array[:, key]\n",
      "\u001b[1;31mMemoryError\u001b[0m: Unable to allocate 8.52 GiB for an array with shape (142612, 8023) and data type float64"
     ]
    }
   ],
   "source": [
    "# cocktail_profile test, train, validation split \n",
    "from sklearn.model_selection import train_test_split\n",
    "\n",
    "# test\n",
    "train, test = train_test_split(cocktail_profile, test_size=0.2, random_state=10)\n",
    "\n",
    "# train, validation\n",
    "train, validation = train_test_split(train, test_size=0.2, random_state=10)\n",
    "\n",
    "print(train.shape, validation.shape, test.shape)\n",
    "\n",
    "\n"
   ]
  },
  {
   "cell_type": "code",
   "execution_count": 76,
   "metadata": {},
   "outputs": [],
   "source": [
    "# 미사용 변수 삭제\n",
    "del users_df\n",
    "del test_df\n",
    "del train_df\n",
    "del validation_df"
   ]
  },
  {
   "cell_type": "code",
   "execution_count": 70,
   "metadata": {},
   "outputs": [
    {
     "data": {
      "text/plain": [
       "(17827, 8023)"
      ]
     },
     "execution_count": 70,
     "metadata": {},
     "output_type": "execute_result"
    }
   ],
   "source": [
    "test.shape\n",
    "#train.shape"
   ]
  },
  {
   "cell_type": "code",
   "execution_count": 63,
   "metadata": {},
   "outputs": [
    {
     "ename": "OSError",
     "evalue": "No file or directory found at autoencoder.h5",
     "output_type": "error",
     "traceback": [
      "\u001b[1;31m---------------------------------------------------------------------------\u001b[0m",
      "\u001b[1;31mOSError\u001b[0m                                   Traceback (most recent call last)",
      "Cell \u001b[1;32mIn[63], line 6\u001b[0m\n\u001b[0;32m      3\u001b[0m \u001b[39mfrom\u001b[39;00m \u001b[39mkeras\u001b[39;00m\u001b[39m.\u001b[39;00m\u001b[39mmodels\u001b[39;00m \u001b[39mimport\u001b[39;00m load_model\n\u001b[0;32m      5\u001b[0m \u001b[39m# 모델 로드\u001b[39;00m\n\u001b[1;32m----> 6\u001b[0m model \u001b[39m=\u001b[39m load_model(\u001b[39m'\u001b[39;49m\u001b[39mautoencoder.h5\u001b[39;49m\u001b[39m'\u001b[39;49m)\n",
      "File \u001b[1;32mc:\\Users\\gmk_0\\OneDrive\\바탕 화면\\myWork\\아주대학교\\4-1\\파란학기\\PRADA_AI\\venv\\lib\\site-packages\\keras\\saving\\saving_api.py:212\u001b[0m, in \u001b[0;36mload_model\u001b[1;34m(filepath, custom_objects, compile, safe_mode, **kwargs)\u001b[0m\n\u001b[0;32m    204\u001b[0m     \u001b[39mreturn\u001b[39;00m saving_lib\u001b[39m.\u001b[39mload_model(\n\u001b[0;32m    205\u001b[0m         filepath,\n\u001b[0;32m    206\u001b[0m         custom_objects\u001b[39m=\u001b[39mcustom_objects,\n\u001b[0;32m    207\u001b[0m         \u001b[39mcompile\u001b[39m\u001b[39m=\u001b[39m\u001b[39mcompile\u001b[39m,\n\u001b[0;32m    208\u001b[0m         safe_mode\u001b[39m=\u001b[39msafe_mode,\n\u001b[0;32m    209\u001b[0m     )\n\u001b[0;32m    211\u001b[0m \u001b[39m# Legacy case.\u001b[39;00m\n\u001b[1;32m--> 212\u001b[0m \u001b[39mreturn\u001b[39;00m legacy_sm_saving_lib\u001b[39m.\u001b[39mload_model(\n\u001b[0;32m    213\u001b[0m     filepath, custom_objects\u001b[39m=\u001b[39mcustom_objects, \u001b[39mcompile\u001b[39m\u001b[39m=\u001b[39m\u001b[39mcompile\u001b[39m, \u001b[39m*\u001b[39m\u001b[39m*\u001b[39mkwargs\n\u001b[0;32m    214\u001b[0m )\n",
      "File \u001b[1;32mc:\\Users\\gmk_0\\OneDrive\\바탕 화면\\myWork\\아주대학교\\4-1\\파란학기\\PRADA_AI\\venv\\lib\\site-packages\\keras\\utils\\traceback_utils.py:70\u001b[0m, in \u001b[0;36mfilter_traceback.<locals>.error_handler\u001b[1;34m(*args, **kwargs)\u001b[0m\n\u001b[0;32m     67\u001b[0m     filtered_tb \u001b[39m=\u001b[39m _process_traceback_frames(e\u001b[39m.\u001b[39m__traceback__)\n\u001b[0;32m     68\u001b[0m     \u001b[39m# To get the full stack trace, call:\u001b[39;00m\n\u001b[0;32m     69\u001b[0m     \u001b[39m# `tf.debugging.disable_traceback_filtering()`\u001b[39;00m\n\u001b[1;32m---> 70\u001b[0m     \u001b[39mraise\u001b[39;00m e\u001b[39m.\u001b[39mwith_traceback(filtered_tb) \u001b[39mfrom\u001b[39;00m \u001b[39mNone\u001b[39m\n\u001b[0;32m     71\u001b[0m \u001b[39mfinally\u001b[39;00m:\n\u001b[0;32m     72\u001b[0m     \u001b[39mdel\u001b[39;00m filtered_tb\n",
      "File \u001b[1;32mc:\\Users\\gmk_0\\OneDrive\\바탕 화면\\myWork\\아주대학교\\4-1\\파란학기\\PRADA_AI\\venv\\lib\\site-packages\\keras\\saving\\legacy\\save.py:230\u001b[0m, in \u001b[0;36mload_model\u001b[1;34m(filepath, custom_objects, compile, options)\u001b[0m\n\u001b[0;32m    228\u001b[0m \u001b[39mif\u001b[39;00m \u001b[39misinstance\u001b[39m(filepath_str, \u001b[39mstr\u001b[39m):\n\u001b[0;32m    229\u001b[0m     \u001b[39mif\u001b[39;00m \u001b[39mnot\u001b[39;00m tf\u001b[39m.\u001b[39mio\u001b[39m.\u001b[39mgfile\u001b[39m.\u001b[39mexists(filepath_str):\n\u001b[1;32m--> 230\u001b[0m         \u001b[39mraise\u001b[39;00m \u001b[39mIOError\u001b[39;00m(\n\u001b[0;32m    231\u001b[0m             \u001b[39mf\u001b[39m\u001b[39m\"\u001b[39m\u001b[39mNo file or directory found at \u001b[39m\u001b[39m{\u001b[39;00mfilepath_str\u001b[39m}\u001b[39;00m\u001b[39m\"\u001b[39m\n\u001b[0;32m    232\u001b[0m         )\n\u001b[0;32m    234\u001b[0m     \u001b[39mif\u001b[39;00m tf\u001b[39m.\u001b[39mio\u001b[39m.\u001b[39mgfile\u001b[39m.\u001b[39misdir(filepath_str):\n\u001b[0;32m    235\u001b[0m         \u001b[39mreturn\u001b[39;00m saved_model_load\u001b[39m.\u001b[39mload(\n\u001b[0;32m    236\u001b[0m             filepath_str, \u001b[39mcompile\u001b[39m, options\n\u001b[0;32m    237\u001b[0m         )\n",
      "\u001b[1;31mOSError\u001b[0m: No file or directory found at autoencoder.h5"
     ]
    }
   ],
   "source": [
    "from keras.layers import Input, Dense\n",
    "from keras.models import Model\n",
    "\n",
    "# Define input layer\n",
    "input_layer = Input(shape=(N,))\n",
    "\n",
    "# Define encoder layer\n",
    "encoder_layer = Dense(units=H, activation='relu')(input_layer)\n",
    "\n",
    "# Define decoder layer\n",
    "decoder_layer = Dense(units=N, activation='sigmoid')(encoder_layer)\n",
    "\n",
    "# Define autoencoder model\n",
    "autoencoder = Model(inputs=input_layer, outputs=decoder_layer)\n",
    "\n",
    "# Compile autoencoder model\n",
    "autoencoder.compile(optimizer='adam', loss='binary_crossentropy')\n",
    "\n",
    "# Train autoencoder model\n",
    "autoencoder.fit(x_train, x_train, epochs=10, batch_size=32, validation_data=(x_test, x_test))\n"
   ]
  },
  {
   "cell_type": "code",
   "execution_count": 43,
   "metadata": {},
   "outputs": [
    {
     "name": "stdout",
     "output_type": "stream",
     "text": [
      "                                                raw_ingr  raw_words  \\\n",
      "0      medium heads bibb or red leaf lettuce, washed,...         13   \n",
      "1                  mixed baby lettuces and spring greens          6   \n",
      "2                                   romaine lettuce leaf          3   \n",
      "3                                   iceberg lettuce leaf          3   \n",
      "4                                    red romaine lettuce          3   \n",
      "...                                                  ...        ...   \n",
      "11654                                           soybeans          1   \n",
      "11655                                              goose          1   \n",
      "11656                                             ajwain          1   \n",
      "11657                                           brinjals          1   \n",
      "11658                                              khoya          1   \n",
      "\n",
      "                                               processed  len_proc replaced  \\\n",
      "0      medium heads bibb or red leaf lettuce, washed,...        73  lettuce   \n",
      "1                   mixed baby lettuces and spring green        36  lettuce   \n",
      "2                                   romaine lettuce leaf        20  lettuce   \n",
      "3                                   iceberg lettuce leaf        20  lettuce   \n",
      "4                                    red romaine lettuce        19  lettuce   \n",
      "...                                                  ...       ...      ...   \n",
      "11654                                            soybean         7  soybean   \n",
      "11655                                              goose         5    goose   \n",
      "11656                                             ajwain         6   ajwain   \n",
      "11657                                            brinjal         7  brinjal   \n",
      "11658                                              khoya         5    khoya   \n",
      "\n",
      "       count    id  \n",
      "0       4507  4308  \n",
      "1       4507  4308  \n",
      "2       4507  4308  \n",
      "3       4507  4308  \n",
      "4       4507  4308  \n",
      "...      ...   ...  \n",
      "11654     31  6702  \n",
      "11655      8  3318  \n",
      "11656     13    47  \n",
      "11657      2   750  \n",
      "11658      6  4061  \n",
      "\n",
      "[11659 rows x 7 columns]\n"
     ]
    }
   ],
   "source": [
    "# pickle 파일 불러오기\n",
    "\n",
    "import pickle\n",
    "\n",
    "with open('..\\\\..\\\\Dataset\\\\ingr_map.pkl', 'rb') as f:\n",
    "    ing_map = pickle.load(f)\n",
    "\n",
    "print(map)"
   ]
  },
  {
   "cell_type": "code",
   "execution_count": 36,
   "metadata": {},
   "outputs": [
    {
     "data": {
      "text/plain": [
       "7993"
      ]
     },
     "execution_count": 36,
     "metadata": {},
     "output_type": "execute_result"
    }
   ],
   "source": [
    "ingredients = [] \n",
    "for ing_set in recipes_df['ingredient_ids'].values:\n",
    "    # int array로 변환\n",
    "    ing_list = ing_set.strip('[').strip(']').split(',')\n",
    "    ing_list = [int(i) for i in ing_list]\n",
    "    for ingredient in ing_list:\n",
    "        ingredients.append(ingredient) if ingredient not in ingredients else None\n",
    "        \n",
    "\n",
    "len(ingredients)\n"
   ]
  },
  {
   "cell_type": "code",
   "execution_count": 47,
   "metadata": {},
   "outputs": [
    {
     "name": "stdout",
     "output_type": "stream",
     "text": [
      "0 8022\n"
     ]
    }
   ],
   "source": [
    "print(min(ingredients), max(ingredients))"
   ]
  },
  {
   "cell_type": "code",
   "execution_count": 40,
   "metadata": {},
   "outputs": [
    {
     "name": "stdout",
     "output_type": "stream",
     "text": [
      "0 8022\n",
      "30\n"
     ]
    }
   ],
   "source": [
    "print(min(ingredients), max(ingredients))\n",
    "\n",
    "notIn = []\n",
    "for i in range(8023):\n",
    "    if i not in ingredients:\n",
    "        notIn.append(i)\n",
    "\n",
    "print(len(notIn))"
   ]
  },
  {
   "cell_type": "code",
   "execution_count": 46,
   "metadata": {},
   "outputs": [
    {
     "name": "stdout",
     "output_type": "stream",
     "text": [
      "8023\n"
     ]
    }
   ],
   "source": [
    "replaced = ing_map['replaced'].values\n",
    "\n",
    "replaced = set(replaced)\n",
    "\n",
    "print(len(replaced))"
   ]
  }
 ],
 "metadata": {
  "kernelspec": {
   "display_name": "venv",
   "language": "python",
   "name": "python3"
  },
  "language_info": {
   "codemirror_mode": {
    "name": "ipython",
    "version": 3
   },
   "file_extension": ".py",
   "mimetype": "text/x-python",
   "name": "python",
   "nbconvert_exporter": "python",
   "pygments_lexer": "ipython3",
   "version": "3.10.10"
  },
  "orig_nbformat": 4
 },
 "nbformat": 4,
 "nbformat_minor": 2
}
