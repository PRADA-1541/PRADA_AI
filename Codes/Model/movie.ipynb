{
 "cells": [
  {
   "cell_type": "code",
   "execution_count": 12,
   "metadata": {},
   "outputs": [],
   "source": [
    "import pandas as pd\n",
    "import numpy as np\n",
    "from surprise import Dataset\n",
    "from surprise import Reader"
   ]
  },
  {
   "cell_type": "code",
   "execution_count": 5,
   "metadata": {},
   "outputs": [
    {
     "name": "stdout",
     "output_type": "stream",
     "text": [
      "Dataset ml-100k could not be found. Do you want to download it? [Y/n] Trying to download dataset from https://files.grouplens.org/datasets/movielens/ml-100k.zip...\n",
      "Done! Dataset ml-100k has been saved to /home/gmk0904/.surprise_data/ml-100k\n"
     ]
    }
   ],
   "source": [
    "# dataset 로드\n",
    "\n",
    "movie_dataset = Dataset.load_builtin('ml-100k')\n",
    "\n",
    "df = pd.DataFrame(movie_dataset.raw_ratings)\n",
    "df.columns = ['user', 'item', 'rating', 'timestamp']"
   ]
  },
  {
   "cell_type": "code",
   "execution_count": 22,
   "metadata": {},
   "outputs": [
    {
     "name": "stdout",
     "output_type": "stream",
     "text": [
      "  user item  rating  timestamp\n",
      "0  196  242     3.0  881250949\n",
      "1  186  302     3.0  891717742\n",
      "2   22  377     1.0  878887116\n",
      "3  244   51     2.0  880606923\n",
      "4  166  346     1.0  886397596\n",
      "<class 'pandas.core.frame.DataFrame'>\n",
      "RangeIndex: 100000 entries, 0 to 99999\n",
      "Data columns (total 4 columns):\n",
      " #   Column     Non-Null Count   Dtype  \n",
      "---  ------     --------------   -----  \n",
      " 0   user       100000 non-null  object \n",
      " 1   item       100000 non-null  object \n",
      " 2   rating     100000 non-null  float64\n",
      " 3   timestamp  100000 non-null  object \n",
      "dtypes: float64(1), object(3)\n",
      "memory usage: 3.1+ MB\n",
      "None\n",
      "              rating\n",
      "count  100000.000000\n",
      "mean        3.529860\n",
      "std         1.125674\n",
      "min         1.000000\n",
      "25%         3.000000\n",
      "50%         4.000000\n",
      "75%         4.000000\n",
      "max         5.000000\n"
     ]
    }
   ],
   "source": [
    "# 데이터 확인\n",
    "print(df.head())\n",
    "print(df.info())\n",
    "print(df.describe())"
   ]
  }
 ],
 "metadata": {
  "kernelspec": {
   "display_name": ".venv",
   "language": "python",
   "name": "python3"
  },
  "language_info": {
   "codemirror_mode": {
    "name": "ipython",
    "version": 3
   },
   "file_extension": ".py",
   "mimetype": "text/x-python",
   "name": "python",
   "nbconvert_exporter": "python",
   "pygments_lexer": "ipython3",
   "version": "3.8.10"
  },
  "orig_nbformat": 4
 },
 "nbformat": 4,
 "nbformat_minor": 2
}
