{
 "cells": [
  {
   "cell_type": "code",
   "execution_count": 77,
   "metadata": {},
   "outputs": [],
   "source": [
    "import pandas as pd\n",
    "import numpy as np\n",
    "import os\n",
    "from surprise import Dataset\n",
    "from surprise import Reader\n",
    "import torch\n",
    "import torch.nn as nn\n",
    "import torch.utils.data as data\n",
    "import torch.backends.cudnn as cudnn\n",
    "import wandb\n",
    "\n"
   ]
  },
  {
   "cell_type": "code",
   "execution_count": 78,
   "metadata": {},
   "outputs": [],
   "source": [
    "# dataset 로드\n",
    "\n",
    "movie_dataset = Dataset.load_builtin('ml-100k')\n",
    "\n",
    "df = pd.DataFrame(movie_dataset.raw_ratings)\n",
    "df.columns = ['user', 'item', 'rating', 'timestamp']"
   ]
  },
  {
   "cell_type": "code",
   "execution_count": 79,
   "metadata": {},
   "outputs": [
    {
     "name": "stdout",
     "output_type": "stream",
     "text": [
      "  user item  rating  timestamp\n",
      "0  196  242     3.0  881250949\n",
      "1  186  302     3.0  891717742\n",
      "2   22  377     1.0  878887116\n",
      "3  244   51     2.0  880606923\n",
      "4  166  346     1.0  886397596\n",
      "<class 'pandas.core.frame.DataFrame'>\n",
      "RangeIndex: 100000 entries, 0 to 99999\n",
      "Data columns (total 4 columns):\n",
      " #   Column     Non-Null Count   Dtype  \n",
      "---  ------     --------------   -----  \n",
      " 0   user       100000 non-null  object \n",
      " 1   item       100000 non-null  object \n",
      " 2   rating     100000 non-null  float64\n",
      " 3   timestamp  100000 non-null  object \n",
      "dtypes: float64(1), object(3)\n",
      "memory usage: 3.1+ MB\n",
      "None\n",
      "              rating\n",
      "count  100000.000000\n",
      "mean        3.529860\n",
      "std         1.125674\n",
      "min         1.000000\n",
      "25%         3.000000\n",
      "50%         4.000000\n",
      "75%         4.000000\n",
      "max         5.000000\n"
     ]
    }
   ],
   "source": [
    "# 데이터 확인\n",
    "print(df.head())\n",
    "print(df.info())\n",
    "print(df.describe())"
   ]
  },
  {
   "cell_type": "code",
   "execution_count": 80,
   "metadata": {},
   "outputs": [],
   "source": [
    "# import zipfile\n",
    "\n",
    "# zipfileName = 'ml-latest-small.zip'\n",
    "\n",
    "# with zipfile.ZipFile(zipfileName, 'r') as zip_ref:\n",
    "#     zip_ref.extractall()\n"
   ]
  },
  {
   "cell_type": "code",
   "execution_count": 81,
   "metadata": {},
   "outputs": [],
   "source": [
    "# 데이터 로드\n",
    "\n",
    "movie_df = pd.read_csv(os.path.join('ml-latest-small','movies.csv'))\n",
    "rating_df = pd.read_csv(os.path.join('ml-latest-small','ratings.csv'))\n",
    "tag_df = pd.read_csv(os.path.join('ml-latest-small','tags.csv'))\n"
   ]
  },
  {
   "attachments": {},
   "cell_type": "markdown",
   "metadata": {},
   "source": [
    "## 데이터 확인"
   ]
  },
  {
   "cell_type": "code",
   "execution_count": 82,
   "metadata": {},
   "outputs": [
    {
     "data": {
      "text/html": [
       "<div>\n",
       "<style scoped>\n",
       "    .dataframe tbody tr th:only-of-type {\n",
       "        vertical-align: middle;\n",
       "    }\n",
       "\n",
       "    .dataframe tbody tr th {\n",
       "        vertical-align: top;\n",
       "    }\n",
       "\n",
       "    .dataframe thead th {\n",
       "        text-align: right;\n",
       "    }\n",
       "</style>\n",
       "<table border=\"1\" class=\"dataframe\">\n",
       "  <thead>\n",
       "    <tr style=\"text-align: right;\">\n",
       "      <th></th>\n",
       "      <th>movieId</th>\n",
       "      <th>title</th>\n",
       "      <th>genres</th>\n",
       "    </tr>\n",
       "  </thead>\n",
       "  <tbody>\n",
       "    <tr>\n",
       "      <th>0</th>\n",
       "      <td>1</td>\n",
       "      <td>Toy Story (1995)</td>\n",
       "      <td>Adventure|Animation|Children|Comedy|Fantasy</td>\n",
       "    </tr>\n",
       "    <tr>\n",
       "      <th>1</th>\n",
       "      <td>2</td>\n",
       "      <td>Jumanji (1995)</td>\n",
       "      <td>Adventure|Children|Fantasy</td>\n",
       "    </tr>\n",
       "    <tr>\n",
       "      <th>2</th>\n",
       "      <td>3</td>\n",
       "      <td>Grumpier Old Men (1995)</td>\n",
       "      <td>Comedy|Romance</td>\n",
       "    </tr>\n",
       "    <tr>\n",
       "      <th>3</th>\n",
       "      <td>4</td>\n",
       "      <td>Waiting to Exhale (1995)</td>\n",
       "      <td>Comedy|Drama|Romance</td>\n",
       "    </tr>\n",
       "    <tr>\n",
       "      <th>4</th>\n",
       "      <td>5</td>\n",
       "      <td>Father of the Bride Part II (1995)</td>\n",
       "      <td>Comedy</td>\n",
       "    </tr>\n",
       "  </tbody>\n",
       "</table>\n",
       "</div>"
      ],
      "text/plain": [
       "   movieId                               title   \n",
       "0        1                    Toy Story (1995)  \\\n",
       "1        2                      Jumanji (1995)   \n",
       "2        3             Grumpier Old Men (1995)   \n",
       "3        4            Waiting to Exhale (1995)   \n",
       "4        5  Father of the Bride Part II (1995)   \n",
       "\n",
       "                                        genres  \n",
       "0  Adventure|Animation|Children|Comedy|Fantasy  \n",
       "1                   Adventure|Children|Fantasy  \n",
       "2                               Comedy|Romance  \n",
       "3                         Comedy|Drama|Romance  \n",
       "4                                       Comedy  "
      ]
     },
     "execution_count": 82,
     "metadata": {},
     "output_type": "execute_result"
    }
   ],
   "source": [
    "# 데이터 확인\n",
    "movie_df.head()"
   ]
  },
  {
   "cell_type": "code",
   "execution_count": 83,
   "metadata": {},
   "outputs": [
    {
     "data": {
      "text/html": [
       "<div>\n",
       "<style scoped>\n",
       "    .dataframe tbody tr th:only-of-type {\n",
       "        vertical-align: middle;\n",
       "    }\n",
       "\n",
       "    .dataframe tbody tr th {\n",
       "        vertical-align: top;\n",
       "    }\n",
       "\n",
       "    .dataframe thead th {\n",
       "        text-align: right;\n",
       "    }\n",
       "</style>\n",
       "<table border=\"1\" class=\"dataframe\">\n",
       "  <thead>\n",
       "    <tr style=\"text-align: right;\">\n",
       "      <th></th>\n",
       "      <th>userId</th>\n",
       "      <th>movieId</th>\n",
       "      <th>rating</th>\n",
       "      <th>timestamp</th>\n",
       "    </tr>\n",
       "  </thead>\n",
       "  <tbody>\n",
       "    <tr>\n",
       "      <th>0</th>\n",
       "      <td>1</td>\n",
       "      <td>1</td>\n",
       "      <td>4.0</td>\n",
       "      <td>964982703</td>\n",
       "    </tr>\n",
       "    <tr>\n",
       "      <th>1</th>\n",
       "      <td>1</td>\n",
       "      <td>3</td>\n",
       "      <td>4.0</td>\n",
       "      <td>964981247</td>\n",
       "    </tr>\n",
       "    <tr>\n",
       "      <th>2</th>\n",
       "      <td>1</td>\n",
       "      <td>6</td>\n",
       "      <td>4.0</td>\n",
       "      <td>964982224</td>\n",
       "    </tr>\n",
       "    <tr>\n",
       "      <th>3</th>\n",
       "      <td>1</td>\n",
       "      <td>47</td>\n",
       "      <td>5.0</td>\n",
       "      <td>964983815</td>\n",
       "    </tr>\n",
       "    <tr>\n",
       "      <th>4</th>\n",
       "      <td>1</td>\n",
       "      <td>50</td>\n",
       "      <td>5.0</td>\n",
       "      <td>964982931</td>\n",
       "    </tr>\n",
       "  </tbody>\n",
       "</table>\n",
       "</div>"
      ],
      "text/plain": [
       "   userId  movieId  rating  timestamp\n",
       "0       1        1     4.0  964982703\n",
       "1       1        3     4.0  964981247\n",
       "2       1        6     4.0  964982224\n",
       "3       1       47     5.0  964983815\n",
       "4       1       50     5.0  964982931"
      ]
     },
     "execution_count": 83,
     "metadata": {},
     "output_type": "execute_result"
    }
   ],
   "source": [
    "rating_df.head()"
   ]
  },
  {
   "cell_type": "code",
   "execution_count": 84,
   "metadata": {},
   "outputs": [
    {
     "data": {
      "text/html": [
       "<div>\n",
       "<style scoped>\n",
       "    .dataframe tbody tr th:only-of-type {\n",
       "        vertical-align: middle;\n",
       "    }\n",
       "\n",
       "    .dataframe tbody tr th {\n",
       "        vertical-align: top;\n",
       "    }\n",
       "\n",
       "    .dataframe thead th {\n",
       "        text-align: right;\n",
       "    }\n",
       "</style>\n",
       "<table border=\"1\" class=\"dataframe\">\n",
       "  <thead>\n",
       "    <tr style=\"text-align: right;\">\n",
       "      <th></th>\n",
       "      <th>userId</th>\n",
       "      <th>movieId</th>\n",
       "      <th>tag</th>\n",
       "      <th>timestamp</th>\n",
       "    </tr>\n",
       "  </thead>\n",
       "  <tbody>\n",
       "    <tr>\n",
       "      <th>0</th>\n",
       "      <td>2</td>\n",
       "      <td>60756</td>\n",
       "      <td>funny</td>\n",
       "      <td>1445714994</td>\n",
       "    </tr>\n",
       "    <tr>\n",
       "      <th>1</th>\n",
       "      <td>2</td>\n",
       "      <td>60756</td>\n",
       "      <td>Highly quotable</td>\n",
       "      <td>1445714996</td>\n",
       "    </tr>\n",
       "    <tr>\n",
       "      <th>2</th>\n",
       "      <td>2</td>\n",
       "      <td>60756</td>\n",
       "      <td>will ferrell</td>\n",
       "      <td>1445714992</td>\n",
       "    </tr>\n",
       "    <tr>\n",
       "      <th>3</th>\n",
       "      <td>2</td>\n",
       "      <td>89774</td>\n",
       "      <td>Boxing story</td>\n",
       "      <td>1445715207</td>\n",
       "    </tr>\n",
       "    <tr>\n",
       "      <th>4</th>\n",
       "      <td>2</td>\n",
       "      <td>89774</td>\n",
       "      <td>MMA</td>\n",
       "      <td>1445715200</td>\n",
       "    </tr>\n",
       "  </tbody>\n",
       "</table>\n",
       "</div>"
      ],
      "text/plain": [
       "   userId  movieId              tag   timestamp\n",
       "0       2    60756            funny  1445714994\n",
       "1       2    60756  Highly quotable  1445714996\n",
       "2       2    60756     will ferrell  1445714992\n",
       "3       2    89774     Boxing story  1445715207\n",
       "4       2    89774              MMA  1445715200"
      ]
     },
     "execution_count": 84,
     "metadata": {},
     "output_type": "execute_result"
    }
   ],
   "source": [
    "tag_df.head()"
   ]
  },
  {
   "attachments": {},
   "cell_type": "markdown",
   "metadata": {},
   "source": [
    "### Item-based CF"
   ]
  },
  {
   "cell_type": "code",
   "execution_count": 85,
   "metadata": {},
   "outputs": [],
   "source": [
    "# config\n",
    "\n",
    "config = {\n",
    "\n",
    "}\n",
    "\n",
    "args = {\n",
    "    \"batch_size\": 128,\n",
    "    \"epochs\": 80,\n",
    "    \"lr\": 0.0001,\n",
    "    \"weight_decay\": 0.0001,\n",
    "    \"dropout\": 0.1,\n",
    "    \"num_layers\": 3,\n",
    "    \"hidden_size\": 256,\n",
    "    \"topk\": 10,\n",
    "    \"gpu\": \"0\",\n",
    "    \"step_size\": 10,\n",
    "    \"gamma\": 0.5,\n",
    "}\n",
    "\n",
    "os.environ[\"CUDA_VISIBLE_DEVICES\"] = args[\"gpu\"]\n",
    "cudnn.benchmark = True"
   ]
  },
  {
   "cell_type": "code",
   "execution_count": 86,
   "metadata": {},
   "outputs": [],
   "source": [
    "# 데이터셋 정의\n",
    "\n",
    "class MovieDataset(data.Dataset):\n",
    "    def __init__(self, df, is_training=True):\n",
    "        super(MovieDataset, self).__init__()\n",
    "        self.dataset = np.array(df)\n",
    "        self.is_training = is_training\n",
    "\n",
    "    def __len__(self):\n",
    "        return len(self.dataset)\n",
    "    \n",
    "    def __getitem__(self, idx):\n",
    "        # user의 경우 1부터 시작하므로 1을 빼준다.\n",
    "        user = (self.dataset[idx][0] - 1).astype(np.int64)\n",
    "        item = (self.dataset[idx][1] - 1).astype(np.int64)\n",
    "        rating = self.dataset[idx][2].astype(np.float32)\n",
    "\n",
    "        return user, item, rating\n",
    "    \n",
    "    def collate_fn(self, data):\n",
    "        users, items, ratings = zip(*data)\n",
    "        users = torch.LongTensor(users)\n",
    "        items = torch.LongTensor(items)\n",
    "        ratings = torch.FloatTensor(ratings)\n",
    "        return users, items, ratings.dtype(torch.float32)\n",
    "        \n",
    "    \n",
    "    def get_loader(self, batch_size, shuffle=True, num_workers=4):\n",
    "        if self.is_training:\n",
    "            return data.DataLoader(self, batch_size=batch_size, shuffle=False, num_workers=num_workers)\n",
    "        else:\n",
    "            return data.DataLoader(self, batch_size=batch_size, shuffle=True, num_workers=num_workers)\n",
    "    \n",
    "    "
   ]
  },
  {
   "cell_type": "code",
   "execution_count": 87,
   "metadata": {},
   "outputs": [
    {
     "data": {
      "text/html": [
       "<div>\n",
       "<style scoped>\n",
       "    .dataframe tbody tr th:only-of-type {\n",
       "        vertical-align: middle;\n",
       "    }\n",
       "\n",
       "    .dataframe tbody tr th {\n",
       "        vertical-align: top;\n",
       "    }\n",
       "\n",
       "    .dataframe thead th {\n",
       "        text-align: right;\n",
       "    }\n",
       "</style>\n",
       "<table border=\"1\" class=\"dataframe\">\n",
       "  <thead>\n",
       "    <tr style=\"text-align: right;\">\n",
       "      <th></th>\n",
       "      <th>userId</th>\n",
       "      <th>movieId</th>\n",
       "      <th>rating</th>\n",
       "      <th>timestamp</th>\n",
       "    </tr>\n",
       "  </thead>\n",
       "  <tbody>\n",
       "    <tr>\n",
       "      <th>14430</th>\n",
       "      <td>91</td>\n",
       "      <td>2431</td>\n",
       "      <td>2.0</td>\n",
       "      <td>1112716724</td>\n",
       "    </tr>\n",
       "    <tr>\n",
       "      <th>43498</th>\n",
       "      <td>292</td>\n",
       "      <td>111</td>\n",
       "      <td>2.0</td>\n",
       "      <td>1265680159</td>\n",
       "    </tr>\n",
       "    <tr>\n",
       "      <th>73590</th>\n",
       "      <td>474</td>\n",
       "      <td>1784</td>\n",
       "      <td>3.5</td>\n",
       "      <td>1053021455</td>\n",
       "    </tr>\n",
       "    <tr>\n",
       "      <th>19181</th>\n",
       "      <td>124</td>\n",
       "      <td>110</td>\n",
       "      <td>3.5</td>\n",
       "      <td>1336584326</td>\n",
       "    </tr>\n",
       "    <tr>\n",
       "      <th>97254</th>\n",
       "      <td>605</td>\n",
       "      <td>4899</td>\n",
       "      <td>2.5</td>\n",
       "      <td>1277176881</td>\n",
       "    </tr>\n",
       "  </tbody>\n",
       "</table>\n",
       "</div>"
      ],
      "text/plain": [
       "       userId  movieId  rating   timestamp\n",
       "14430      91     2431     2.0  1112716724\n",
       "43498     292      111     2.0  1265680159\n",
       "73590     474     1784     3.5  1053021455\n",
       "19181     124      110     3.5  1336584326\n",
       "97254     605     4899     2.5  1277176881"
      ]
     },
     "execution_count": 87,
     "metadata": {},
     "output_type": "execute_result"
    }
   ],
   "source": [
    "# train, test split\n",
    "\n",
    "from sklearn.model_selection import train_test_split\n",
    "\n",
    "train_df, test_df = train_test_split(rating_df, test_size=0.1, random_state=42)\n",
    "traind_df, val_df = train_test_split(train_df, test_size=0.1, random_state=42)\n",
    "\n",
    "train_df.head()\n"
   ]
  },
  {
   "cell_type": "code",
   "execution_count": 88,
   "metadata": {},
   "outputs": [
    {
     "name": "stdout",
     "output_type": "stream",
     "text": [
      "tensor(90) tensor(2430) tensor(2.)\n",
      "tensor(90) tensor(2430) tensor(2.)\n",
      "tensor(90) tensor(2430) tensor(2.)\n",
      "tensor(81) tensor(1543) tensor(3.5000)\n",
      "tensor(109) tensor(2467) tensor(3.)\n",
      "tensor(317) tensor(5217) tensor(3.5000)\n"
     ]
    }
   ],
   "source": [
    "train_X = MovieDataset(train_df)\n",
    "val_X = MovieDataset(val_df, is_training=False)\n",
    "test_X = MovieDataset(test_df, is_training=False)\n",
    "\n",
    "train_loader = train_X.get_loader(args[\"batch_size\"])\n",
    "val_loader = val_X.get_loader(args[\"batch_size\"])\n",
    "test_loader = test_X.get_loader(args[\"batch_size\"])\n",
    "\n",
    "for i in range(3):\n",
    "    for users, items, ratings in train_loader:\n",
    "        print(users[0], items[0], ratings[0])\n",
    "        break\n",
    "\n",
    "for i in range(3):\n",
    "    for users, items, ratings in test_loader:\n",
    "        print(users[0], items[0], ratings[0])\n",
    "        break"
   ]
  },
  {
   "cell_type": "code",
   "execution_count": 89,
   "metadata": {},
   "outputs": [],
   "source": [
    "# 모델 정의\n",
    "from ncfModel import MovieModel\n",
    "        "
   ]
  },
  {
   "cell_type": "code",
   "execution_count": 90,
   "metadata": {},
   "outputs": [
    {
     "name": "stdout",
     "output_type": "stream",
     "text": [
      "MovieModel(\n",
      "  (user_embedding): Embedding(610, 40)\n",
      "  (item_embedding): Embedding(193609, 40)\n",
      "  (layers): ModuleList(\n",
      "    (0): Linear(in_features=80, out_features=256, bias=True)\n",
      "    (1-2): 2 x Linear(in_features=256, out_features=256, bias=True)\n",
      "    (3): Linear(in_features=256, out_features=1, bias=True)\n",
      "  )\n",
      "  (dropout): Dropout(p=0.1, inplace=False)\n",
      ")\n"
     ]
    }
   ],
   "source": [
    "num_users = len(rating_df[\"userId\"].unique())\n",
    "num_items = rating_df[\"movieId\"].max()\n",
    "device = torch.device(\"cuda:0\" if torch.cuda.is_available() else \"cpu\")\n",
    "# 모델 생성\n",
    "model = MovieModel(num_users, num_items, dropout=args[\"dropout\"], num_layers=args[\"num_layers\"], hidden_size=args[\"hidden_size\"])\n",
    "model = model.to(device)\n",
    "\n",
    "# 모델 확인\n",
    "print(model)\n",
    "\n"
   ]
  },
  {
   "cell_type": "code",
   "execution_count": 91,
   "metadata": {},
   "outputs": [
    {
     "name": "stdout",
     "output_type": "stream",
     "text": [
      "\u001b[34m\u001b[1mwandb\u001b[0m: Currently logged in as: \u001b[33mgmk0904\u001b[0m. Use \u001b[1m`wandb login --relogin`\u001b[0m to force relogin\n"
     ]
    }
   ],
   "source": [
    "!wandb login"
   ]
  },
  {
   "cell_type": "code",
   "execution_count": 92,
   "metadata": {},
   "outputs": [],
   "source": [
    "# 모델 학습\n",
    "\n",
    "def train(model, train_loader, optimizer, epoch):\n",
    "    model.train()\n",
    "    train_loss = 0\n",
    "    for users, items, ratings in train_loader:\n",
    "        users, items, ratings = users.cuda(), items.cuda(), ratings.cuda()\n",
    "        \n",
    "        optimizer.zero_grad()\n",
    "        loss = model.get_loss(users, items, ratings)\n",
    "        loss.backward()\n",
    "        optimizer.step()\n",
    "        \n",
    "        train_loss += loss.item()\n",
    "        \n",
    "    train_loss /= len(train_loader)\n",
    "    print(\"Epoch : {}, Train Loss : {:.4f}\".format(epoch, train_loss))\n",
    "    wandb.log({\"train_loss\": train_loss})\n",
    "\n",
    "# 모델 평가\n",
    "\n",
    "def evaluate(model, val_loader, epoch):\n",
    "    model.eval()\n",
    "    test_loss = 0\n",
    "    \n",
    "    with torch.no_grad():\n",
    "        for users, items, ratings in val_loader:\n",
    "            users, items, ratings = users.cuda(), items.cuda(), ratings.cuda()\n",
    "            \n",
    "            loss = model.get_loss(users, items, ratings)\n",
    "            test_loss += loss.item()\n",
    "\n",
    "    test_loss /= len(val_loader)\n",
    "    print(\"Epoch : {}, Test Loss : {:.4f}\".format(epoch, test_loss))\n",
    "    wandb.log({\"test_loss\": test_loss})\n"
   ]
  },
  {
   "cell_type": "code",
   "execution_count": 93,
   "metadata": {},
   "outputs": [
    {
     "name": "stdout",
     "output_type": "stream",
     "text": [
      "709\n",
      "71\n",
      "79\n"
     ]
    }
   ],
   "source": [
    "print(len(train_loader))\n",
    "print(len(val_loader))\n",
    "print(len(test_loader))"
   ]
  },
  {
   "cell_type": "code",
   "execution_count": 94,
   "metadata": {},
   "outputs": [
    {
     "data": {
      "text/html": [
       "Tracking run with wandb version 0.14.2"
      ],
      "text/plain": [
       "<IPython.core.display.HTML object>"
      ]
     },
     "metadata": {},
     "output_type": "display_data"
    },
    {
     "data": {
      "text/html": [
       "Run data is saved locally in <code>/home/gmk0904/myWorks/blue/PRADA_AI/Codes/Model/wandb/run-20230408_115402-uqkl8gc0</code>"
      ],
      "text/plain": [
       "<IPython.core.display.HTML object>"
      ]
     },
     "metadata": {},
     "output_type": "display_data"
    },
    {
     "data": {
      "text/html": [
       "Syncing run <strong><a href='https://wandb.ai/gmk0904/cocktailRecSys/runs/uqkl8gc0' target=\"_blank\">ncf-adam-SLR-drop0.2</a></strong> to <a href='https://wandb.ai/gmk0904/cocktailRecSys' target=\"_blank\">Weights & Biases</a> (<a href='https://wandb.me/run' target=\"_blank\">docs</a>)<br/>"
      ],
      "text/plain": [
       "<IPython.core.display.HTML object>"
      ]
     },
     "metadata": {},
     "output_type": "display_data"
    },
    {
     "data": {
      "text/html": [
       " View project at <a href='https://wandb.ai/gmk0904/cocktailRecSys' target=\"_blank\">https://wandb.ai/gmk0904/cocktailRecSys</a>"
      ],
      "text/plain": [
       "<IPython.core.display.HTML object>"
      ]
     },
     "metadata": {},
     "output_type": "display_data"
    },
    {
     "data": {
      "text/html": [
       " View run at <a href='https://wandb.ai/gmk0904/cocktailRecSys/runs/uqkl8gc0' target=\"_blank\">https://wandb.ai/gmk0904/cocktailRecSys/runs/uqkl8gc0</a>"
      ],
      "text/plain": [
       "<IPython.core.display.HTML object>"
      ]
     },
     "metadata": {},
     "output_type": "display_data"
    },
    {
     "name": "stdout",
     "output_type": "stream",
     "text": [
      "Epoch : 0, Train Loss : 2.0895\n",
      "Epoch : 0, Test Loss : 1.0472\n",
      "Epoch : 1, Train Loss : 1.2011\n",
      "Epoch : 1, Test Loss : 1.0331\n",
      "Epoch : 2, Train Loss : 1.1411\n",
      "Epoch : 2, Test Loss : 1.0167\n",
      "Epoch : 3, Train Loss : 1.1061\n",
      "Epoch : 3, Test Loss : 1.0060\n",
      "Epoch : 4, Train Loss : 1.0784\n",
      "Epoch : 4, Test Loss : 0.9969\n",
      "Epoch : 5, Train Loss : 1.0573\n",
      "Epoch : 5, Test Loss : 0.9813\n",
      "Epoch : 6, Train Loss : 1.0387\n",
      "Epoch : 6, Test Loss : 0.9687\n",
      "Epoch : 7, Train Loss : 1.0191\n",
      "Epoch : 7, Test Loss : 0.9555\n",
      "Epoch : 8, Train Loss : 1.0021\n",
      "Epoch : 8, Test Loss : 0.9439\n",
      "Epoch : 9, Train Loss : 0.9889\n",
      "Epoch : 9, Test Loss : 0.9305\n",
      "Epoch : 10, Train Loss : 0.9711\n",
      "Epoch : 10, Test Loss : 0.9189\n",
      "Epoch : 11, Train Loss : 0.9683\n",
      "Epoch : 11, Test Loss : 0.9133\n",
      "Epoch : 12, Train Loss : 0.9579\n",
      "Epoch : 12, Test Loss : 0.9078\n",
      "Epoch : 13, Train Loss : 0.9511\n",
      "Epoch : 13, Test Loss : 0.9035\n",
      "Epoch : 14, Train Loss : 0.9494\n",
      "Epoch : 14, Test Loss : 0.8959\n",
      "Epoch : 15, Train Loss : 0.9395\n",
      "Epoch : 15, Test Loss : 0.8899\n",
      "Epoch : 16, Train Loss : 0.9337\n",
      "Epoch : 16, Test Loss : 0.8858\n",
      "Epoch : 17, Train Loss : 0.9292\n",
      "Epoch : 17, Test Loss : 0.8806\n",
      "Epoch : 18, Train Loss : 0.9226\n",
      "Epoch : 18, Test Loss : 0.8749\n",
      "Epoch : 19, Train Loss : 0.9154\n",
      "Epoch : 19, Test Loss : 0.8691\n",
      "Epoch : 20, Train Loss : 0.9096\n",
      "Epoch : 20, Test Loss : 0.8651\n",
      "Epoch : 21, Train Loss : 0.9076\n",
      "Epoch : 21, Test Loss : 0.8623\n",
      "Epoch : 22, Train Loss : 0.9025\n",
      "Epoch : 22, Test Loss : 0.8598\n",
      "Epoch : 23, Train Loss : 0.9011\n",
      "Epoch : 23, Test Loss : 0.8565\n",
      "Epoch : 24, Train Loss : 0.9011\n",
      "Epoch : 24, Test Loss : 0.8546\n",
      "Epoch : 25, Train Loss : 0.8953\n",
      "Epoch : 25, Test Loss : 0.8522\n",
      "Epoch : 26, Train Loss : 0.8967\n",
      "Epoch : 26, Test Loss : 0.8497\n",
      "Epoch : 27, Train Loss : 0.8909\n",
      "Epoch : 27, Test Loss : 0.8477\n",
      "Epoch : 28, Train Loss : 0.8875\n",
      "Epoch : 28, Test Loss : 0.8444\n",
      "Epoch : 29, Train Loss : 0.8867\n",
      "Epoch : 29, Test Loss : 0.8425\n",
      "Epoch : 30, Train Loss : 0.8834\n",
      "Epoch : 30, Test Loss : 0.8403\n",
      "Epoch : 31, Train Loss : 0.8825\n",
      "Epoch : 31, Test Loss : 0.8392\n",
      "Epoch : 32, Train Loss : 0.8804\n",
      "Epoch : 32, Test Loss : 0.8387\n",
      "Epoch : 33, Train Loss : 0.8787\n",
      "Epoch : 33, Test Loss : 0.8371\n",
      "Epoch : 34, Train Loss : 0.8781\n",
      "Epoch : 34, Test Loss : 0.8353\n",
      "Epoch : 35, Train Loss : 0.8750\n",
      "Epoch : 35, Test Loss : 0.8339\n",
      "Epoch : 36, Train Loss : 0.8743\n",
      "Epoch : 36, Test Loss : 0.8326\n",
      "Epoch : 37, Train Loss : 0.8743\n",
      "Epoch : 37, Test Loss : 0.8313\n",
      "Epoch : 38, Train Loss : 0.8726\n",
      "Epoch : 38, Test Loss : 0.8301\n",
      "Epoch : 39, Train Loss : 0.8704\n",
      "Epoch : 39, Test Loss : 0.8291\n",
      "Epoch : 40, Train Loss : 0.8692\n",
      "Epoch : 40, Test Loss : 0.8290\n",
      "Epoch : 41, Train Loss : 0.8714\n",
      "Epoch : 41, Test Loss : 0.8282\n",
      "Epoch : 42, Train Loss : 0.8693\n",
      "Epoch : 42, Test Loss : 0.8269\n",
      "Epoch : 43, Train Loss : 0.8667\n",
      "Epoch : 43, Test Loss : 0.8265\n",
      "Epoch : 44, Train Loss : 0.8681\n",
      "Epoch : 44, Test Loss : 0.8263\n",
      "Epoch : 45, Train Loss : 0.8661\n",
      "Epoch : 45, Test Loss : 0.8259\n",
      "Epoch : 46, Train Loss : 0.8640\n",
      "Epoch : 46, Test Loss : 0.8243\n",
      "Epoch : 47, Train Loss : 0.8653\n",
      "Epoch : 47, Test Loss : 0.8244\n",
      "Epoch : 48, Train Loss : 0.8651\n",
      "Epoch : 48, Test Loss : 0.8235\n",
      "Epoch : 49, Train Loss : 0.8633\n",
      "Epoch : 49, Test Loss : 0.8236\n",
      "Epoch : 50, Train Loss : 0.8638\n",
      "Epoch : 50, Test Loss : 0.8234\n",
      "Epoch : 51, Train Loss : 0.8618\n",
      "Epoch : 51, Test Loss : 0.8231\n",
      "Epoch : 52, Train Loss : 0.8639\n",
      "Epoch : 52, Test Loss : 0.8226\n",
      "Epoch : 53, Train Loss : 0.8614\n",
      "Epoch : 53, Test Loss : 0.8223\n",
      "Epoch : 54, Train Loss : 0.8627\n",
      "Epoch : 54, Test Loss : 0.8220\n",
      "Epoch : 55, Train Loss : 0.8603\n",
      "Epoch : 55, Test Loss : 0.8215\n",
      "Epoch : 56, Train Loss : 0.8600\n",
      "Epoch : 56, Test Loss : 0.8215\n",
      "Epoch : 57, Train Loss : 0.8600\n",
      "Epoch : 57, Test Loss : 0.8209\n",
      "Epoch : 58, Train Loss : 0.8600\n",
      "Epoch : 58, Test Loss : 0.8202\n",
      "Epoch : 59, Train Loss : 0.8602\n",
      "Epoch : 59, Test Loss : 0.8200\n",
      "Epoch : 60, Train Loss : 0.8599\n",
      "Epoch : 60, Test Loss : 0.8198\n",
      "Epoch : 61, Train Loss : 0.8608\n",
      "Epoch : 61, Test Loss : 0.8197\n",
      "Epoch : 62, Train Loss : 0.8591\n",
      "Epoch : 62, Test Loss : 0.8198\n",
      "Epoch : 63, Train Loss : 0.8565\n",
      "Epoch : 63, Test Loss : 0.8196\n",
      "Epoch : 64, Train Loss : 0.8567\n",
      "Epoch : 64, Test Loss : 0.8193\n",
      "Epoch : 65, Train Loss : 0.8574\n",
      "Epoch : 65, Test Loss : 0.8192\n",
      "Epoch : 66, Train Loss : 0.8603\n",
      "Epoch : 66, Test Loss : 0.8195\n",
      "Epoch : 67, Train Loss : 0.8567\n",
      "Epoch : 67, Test Loss : 0.8189\n",
      "Epoch : 68, Train Loss : 0.8583\n",
      "Epoch : 68, Test Loss : 0.8186\n",
      "Epoch : 69, Train Loss : 0.8579\n",
      "Epoch : 69, Test Loss : 0.8191\n",
      "Epoch : 70, Train Loss : 0.8576\n",
      "Epoch : 70, Test Loss : 0.8189\n",
      "Epoch : 71, Train Loss : 0.8562\n",
      "Epoch : 71, Test Loss : 0.8186\n",
      "Epoch : 72, Train Loss : 0.8574\n",
      "Epoch : 72, Test Loss : 0.8185\n",
      "Epoch : 73, Train Loss : 0.8571\n",
      "Epoch : 73, Test Loss : 0.8186\n",
      "Epoch : 74, Train Loss : 0.8571\n",
      "Epoch : 74, Test Loss : 0.8182\n",
      "Epoch : 75, Train Loss : 0.8581\n",
      "Epoch : 75, Test Loss : 0.8182\n",
      "Epoch : 76, Train Loss : 0.8577\n",
      "Epoch : 76, Test Loss : 0.8180\n",
      "Epoch : 77, Train Loss : 0.8550\n",
      "Epoch : 77, Test Loss : 0.8181\n",
      "Epoch : 78, Train Loss : 0.8578\n",
      "Epoch : 78, Test Loss : 0.8178\n",
      "Epoch : 79, Train Loss : 0.8590\n",
      "Epoch : 79, Test Loss : 0.8179\n"
     ]
    },
    {
     "data": {
      "text/html": [
       "Waiting for W&B process to finish... <strong style=\"color:green\">(success).</strong>"
      ],
      "text/plain": [
       "<IPython.core.display.HTML object>"
      ]
     },
     "metadata": {},
     "output_type": "display_data"
    },
    {
     "data": {
      "text/html": [
       "<style>\n",
       "    table.wandb td:nth-child(1) { padding: 0 10px; text-align: left ; width: auto;} td:nth-child(2) {text-align: left ; width: 100%}\n",
       "    .wandb-row { display: flex; flex-direction: row; flex-wrap: wrap; justify-content: flex-start; width: 100% }\n",
       "    .wandb-col { display: flex; flex-direction: column; flex-basis: 100%; flex: 1; padding: 10px; }\n",
       "    </style>\n",
       "<div class=\"wandb-row\"><div class=\"wandb-col\"><h3>Run history:</h3><br/><table class=\"wandb\"><tr><td>test_loss</td><td>█▇▆▆▅▄▄▃▃▃▂▂▂▂▂▂▂▂▁▁▁▁▁▁▁▁▁▁▁▁▁▁▁▁▁▁▁▁▁▁</td></tr><tr><td>train_loss</td><td>█▃▂▂▂▂▂▂▁▁▁▁▁▁▁▁▁▁▁▁▁▁▁▁▁▁▁▁▁▁▁▁▁▁▁▁▁▁▁▁</td></tr></table><br/></div><div class=\"wandb-col\"><h3>Run summary:</h3><br/><table class=\"wandb\"><tr><td>test_loss</td><td>0.81786</td></tr><tr><td>train_loss</td><td>0.85903</td></tr></table><br/></div></div>"
      ],
      "text/plain": [
       "<IPython.core.display.HTML object>"
      ]
     },
     "metadata": {},
     "output_type": "display_data"
    },
    {
     "data": {
      "text/html": [
       " View run <strong style=\"color:#cdcd00\">ncf-adam-SLR-drop0.2</strong> at: <a href='https://wandb.ai/gmk0904/cocktailRecSys/runs/uqkl8gc0' target=\"_blank\">https://wandb.ai/gmk0904/cocktailRecSys/runs/uqkl8gc0</a><br/>Synced 5 W&B file(s), 0 media file(s), 0 artifact file(s) and 0 other file(s)"
      ],
      "text/plain": [
       "<IPython.core.display.HTML object>"
      ]
     },
     "metadata": {},
     "output_type": "display_data"
    },
    {
     "data": {
      "text/html": [
       "Find logs at: <code>./wandb/run-20230408_115402-uqkl8gc0/logs</code>"
      ],
      "text/plain": [
       "<IPython.core.display.HTML object>"
      ]
     },
     "metadata": {},
     "output_type": "display_data"
    }
   ],
   "source": [
    "# wandb 설정\n",
    "wandb.init(\n",
    "    project=\"cocktailRecSys\",\n",
    "    name=\"ncf-adam-SLR-drop0.2\",\n",
    "    config=args\n",
    ")\n",
    "\n",
    "wandb.watch(model)\n",
    "wandb.config.update(args)\n",
    "\n",
    "# 모델 학습 ReLU를 적용하면 성능 하락\n",
    "optimizer = torch.optim.Adam(model.parameters(), lr=args[\"lr\"], weight_decay=args[\"weight_decay\"])\n",
    "#optimizer = torch.optim.SGD(model.parameters(), lr=args[\"lr\"], weight_decay=args[\"weight_decay\"])\n",
    "#optimizer = torch.optim.Adagrad(model.parameters(), lr=args[\"lr\"], weight_decay=args[\"weight_decay\"])\n",
    "scheduler = torch.optim.lr_scheduler.StepLR(optimizer, step_size=args[\"step_size\"], gamma=args[\"gamma\"])\n",
    "#scheduler = torch.optim.lr_scheduler.CosineAnnealingLR(optimizer, T_max=10, eta_min=0, last_epoch=-1)\n",
    "\n",
    "for epoch in range(args[\"epochs\"]):\n",
    "    train(model, train_loader, optimizer, epoch)\n",
    "    evaluate(model, val_loader, epoch)\n",
    "    scheduler.step()\n",
    "\n",
    "wandb.finish()\n"
   ]
  },
  {
   "cell_type": "code",
   "execution_count": 72,
   "metadata": {},
   "outputs": [],
   "source": [
    "# 모델 테스트\n",
    "def test(model, test_loader):\n",
    "    model.eval()\n",
    "    test_loss = 0\n",
    "    total = 0\n",
    "    \n",
    "    with torch.no_grad():\n",
    "        for users, items, ratings in test_loader:\n",
    "            users, items, ratings = users.cuda(), items.cuda(), ratings.cuda()\n",
    "            \n",
    "            loss = model.get_loss(users, items, ratings)\n",
    "            test_loss += loss.item()\n",
    "        \n",
    "    test_loss /= len(test_loader)\n",
    "\n",
    "    return test_loss"
   ]
  },
  {
   "cell_type": "code",
   "execution_count": 73,
   "metadata": {},
   "outputs": [
    {
     "data": {
      "text/plain": [
       "1.0345077350735665"
      ]
     },
     "execution_count": 73,
     "metadata": {},
     "output_type": "execute_result"
    }
   ],
   "source": [
    "test_loss = test(model, test_loader)\n",
    "\n",
    "test_loss"
   ]
  },
  {
   "cell_type": "code",
   "execution_count": 74,
   "metadata": {},
   "outputs": [
    {
     "name": "stdout",
     "output_type": "stream",
     "text": [
      "tensor(1.0324, device='cuda:0', grad_fn=<SqrtBackward0>)\n",
      "tensor(0.9380, device='cuda:0', grad_fn=<SqrtBackward0>)\n",
      "tensor(1.0238, device='cuda:0', grad_fn=<SqrtBackward0>)\n",
      "tensor(0.9732, device='cuda:0', grad_fn=<SqrtBackward0>)\n",
      "tensor(1.0709, device='cuda:0', grad_fn=<SqrtBackward0>)\n",
      "tensor(0.9973, device='cuda:0', grad_fn=<SqrtBackward0>)\n",
      "tensor(0.9951, device='cuda:0', grad_fn=<SqrtBackward0>)\n",
      "tensor(1.0049, device='cuda:0', grad_fn=<SqrtBackward0>)\n",
      "tensor(1.0535, device='cuda:0', grad_fn=<SqrtBackward0>)\n",
      "tensor(0.9505, device='cuda:0', grad_fn=<SqrtBackward0>)\n",
      "tensor(1.0322, device='cuda:0', grad_fn=<SqrtBackward0>)\n",
      "tensor(0.9809, device='cuda:0', grad_fn=<SqrtBackward0>)\n",
      "tensor(0.9857, device='cuda:0', grad_fn=<SqrtBackward0>)\n",
      "tensor(1.0569, device='cuda:0', grad_fn=<SqrtBackward0>)\n",
      "tensor(0.9326, device='cuda:0', grad_fn=<SqrtBackward0>)\n",
      "tensor(0.9978, device='cuda:0', grad_fn=<SqrtBackward0>)\n",
      "tensor(1.0824, device='cuda:0', grad_fn=<SqrtBackward0>)\n",
      "tensor(1.1094, device='cuda:0', grad_fn=<SqrtBackward0>)\n",
      "tensor(1.0411, device='cuda:0', grad_fn=<SqrtBackward0>)\n",
      "tensor(0.9764, device='cuda:0', grad_fn=<SqrtBackward0>)\n",
      "tensor(1.0208, device='cuda:0', grad_fn=<SqrtBackward0>)\n",
      "tensor(0.9571, device='cuda:0', grad_fn=<SqrtBackward0>)\n",
      "tensor(1.0437, device='cuda:0', grad_fn=<SqrtBackward0>)\n",
      "tensor(0.9963, device='cuda:0', grad_fn=<SqrtBackward0>)\n",
      "tensor(1.0317, device='cuda:0', grad_fn=<SqrtBackward0>)\n",
      "tensor(1.0016, device='cuda:0', grad_fn=<SqrtBackward0>)\n",
      "tensor(0.9417, device='cuda:0', grad_fn=<SqrtBackward0>)\n",
      "tensor(1.0110, device='cuda:0', grad_fn=<SqrtBackward0>)\n",
      "tensor(1.0029, device='cuda:0', grad_fn=<SqrtBackward0>)\n",
      "tensor(1.0422, device='cuda:0', grad_fn=<SqrtBackward0>)\n",
      "tensor(1.0316, device='cuda:0', grad_fn=<SqrtBackward0>)\n",
      "tensor(1.0759, device='cuda:0', grad_fn=<SqrtBackward0>)\n",
      "tensor(0.9762, device='cuda:0', grad_fn=<SqrtBackward0>)\n",
      "tensor(1.0656, device='cuda:0', grad_fn=<SqrtBackward0>)\n",
      "tensor(1.0427, device='cuda:0', grad_fn=<SqrtBackward0>)\n",
      "tensor(1.0883, device='cuda:0', grad_fn=<SqrtBackward0>)\n",
      "tensor(1.0483, device='cuda:0', grad_fn=<SqrtBackward0>)\n",
      "tensor(0.9521, device='cuda:0', grad_fn=<SqrtBackward0>)\n",
      "tensor(0.9946, device='cuda:0', grad_fn=<SqrtBackward0>)\n",
      "tensor(1.0491, device='cuda:0', grad_fn=<SqrtBackward0>)\n"
     ]
    }
   ],
   "source": [
    "for users, items, ratings in test_loader:\n",
    "    users, items, ratings = users.cuda(), items.cuda(), ratings.cuda()\n",
    "    \n",
    "    predict = model.predict(users, items)\n",
    "    rmse = torch.sqrt(torch.mean((ratings - predict)**2))\n",
    "    print(rmse)"
   ]
  },
  {
   "cell_type": "code",
   "execution_count": 23,
   "metadata": {},
   "outputs": [],
   "source": [
    "# 모델 저장\n",
    "torch.save(model.state_dict(), \"model.pth\")"
   ]
  },
  {
   "cell_type": "code",
   "execution_count": 75,
   "metadata": {},
   "outputs": [
    {
     "name": "stdout",
     "output_type": "stream",
     "text": [
      "tensor([2.0000, 2.5000, 3.0000, 3.0000, 4.5000, 5.0000, 4.0000, 3.0000, 5.0000,\n",
      "        5.0000, 1.5000, 4.5000, 3.0000, 3.5000, 4.0000, 2.0000, 4.0000, 3.0000,\n",
      "        4.0000, 5.0000, 2.0000, 3.5000, 3.5000, 5.0000, 4.0000, 4.0000, 3.0000,\n",
      "        3.0000, 3.0000, 3.0000, 3.5000, 1.5000, 2.0000, 4.5000, 1.0000, 3.0000,\n",
      "        5.0000, 0.5000, 4.0000, 4.0000, 3.5000, 4.0000, 3.5000, 4.0000, 4.0000,\n",
      "        2.0000, 2.0000, 5.0000, 5.0000, 3.5000, 5.0000, 3.5000, 2.0000, 3.5000,\n",
      "        3.0000, 3.0000, 5.0000, 3.5000, 3.5000, 3.5000, 1.5000, 3.0000, 1.0000,\n",
      "        5.0000, 3.5000, 2.0000, 4.0000, 2.0000, 4.0000, 3.0000, 4.0000, 5.0000,\n",
      "        4.0000, 3.5000, 3.0000, 2.0000, 4.5000, 3.5000, 4.0000, 4.0000, 3.0000,\n",
      "        2.5000, 2.5000, 4.0000, 4.5000, 5.0000, 5.0000, 4.0000, 3.0000, 2.0000,\n",
      "        4.0000, 5.0000, 4.0000, 4.5000, 3.0000, 4.0000, 3.0000, 4.5000, 4.5000,\n",
      "        4.0000], device='cuda:0') tensor([3.1868, 3.5313, 3.4193, 3.7204, 3.5739, 3.6514, 3.4059, 3.2025, 3.4583,\n",
      "        3.5716, 3.5679, 3.4345, 3.9718, 3.6669, 3.4680, 3.7696, 3.7643, 3.6427,\n",
      "        3.9332, 3.7686, 3.7380, 3.6893, 3.5573, 3.4138, 3.2790, 4.0610, 3.2735,\n",
      "        3.7664, 3.5326, 3.6093, 3.1539, 3.5532, 3.2996, 3.7147, 3.6882, 3.3440,\n",
      "        3.1816, 3.6729, 3.6618, 3.8821, 3.6969, 3.7361, 3.4566, 3.8098, 3.7789,\n",
      "        3.2889, 3.2777, 3.3359, 3.7626, 3.3407, 3.7187, 3.4614, 3.7136, 3.9045,\n",
      "        3.2146, 3.4881, 3.8233, 3.5724, 3.4353, 3.5487, 3.1937, 3.4945, 3.2705,\n",
      "        3.1131, 3.5772, 3.4554, 3.9031, 3.3132, 3.7695, 3.6845, 3.7147, 3.7232,\n",
      "        3.5299, 3.7589, 3.1972, 3.3370, 3.5757, 3.9269, 3.4791, 3.5591, 3.5510,\n",
      "        3.3338, 3.5078, 3.2778, 3.2745, 3.6048, 3.5409, 3.7104, 3.4388, 2.9555,\n",
      "        3.2843, 3.3028, 3.4417, 3.6633, 3.8530, 3.6832, 3.6093, 3.5300, 3.7013,\n",
      "        3.3251], device='cuda:0', grad_fn=<SqueezeBackward0>)\n"
     ]
    }
   ],
   "source": [
    "print(ratings, predict)\n"
   ]
  },
  {
   "cell_type": "code",
   "execution_count": 76,
   "metadata": {},
   "outputs": [
    {
     "name": "stdout",
     "output_type": "stream",
     "text": [
      "----------------------------------------------------------------\n",
      "        Layer (type)               Output Shape         Param #\n",
      "================================================================\n",
      "           Dropout-1             [256, 100, 80]               0\n",
      "            Linear-2            [256, 100, 256]          20,736\n",
      "           Dropout-3            [256, 100, 256]               0\n",
      "            Linear-4            [256, 100, 256]          65,792\n",
      "           Dropout-5            [256, 100, 256]               0\n",
      "            Linear-6            [256, 100, 256]          65,792\n",
      "           Dropout-7            [256, 100, 256]               0\n",
      "            Linear-8              [256, 100, 1]             257\n",
      "================================================================\n",
      "Total params: 152,577\n",
      "Trainable params: 152,577\n",
      "Non-trainable params: 0\n",
      "----------------------------------------------------------------\n",
      "Input size (MB): 7.81\n",
      "Forward/backward pass size (MB): 315.82\n",
      "Params size (MB): 0.58\n",
      "Estimated Total Size (MB): 324.21\n",
      "----------------------------------------------------------------\n"
     ]
    }
   ],
   "source": [
    "# 모델 summary\n",
    "from torchsummary import summary\n",
    "\n",
    "summary(model, input_size=(100, 80), batch_size=256)"
   ]
  }
 ],
 "metadata": {
  "kernelspec": {
   "display_name": ".venv",
   "language": "python",
   "name": "python3"
  },
  "language_info": {
   "codemirror_mode": {
    "name": "ipython",
    "version": 3
   },
   "file_extension": ".py",
   "mimetype": "text/x-python",
   "name": "python",
   "nbconvert_exporter": "python",
   "pygments_lexer": "ipython3",
   "version": "3.8.10"
  },
  "orig_nbformat": 4
 },
 "nbformat": 4,
 "nbformat_minor": 2
}
