{
 "cells": [
  {
   "cell_type": "code",
   "execution_count": 1,
   "metadata": {},
   "outputs": [],
   "source": [
    "import torch\n",
    "import torch.nn as nn\n",
    "import torch.optim as optim\n",
    "import pandas as pd\n",
    "import numpy as np\n",
    "import os\n",
    "from torch.utils.data import DataLoader, Dataset\n",
    "from sklearn.preprocessing import MinMaxScaler"
   ]
  },
  {
   "cell_type": "code",
   "execution_count": 47,
   "metadata": {},
   "outputs": [],
   "source": [
    "class RatingDataset(Dataset):\n",
    "    def __init__(self, data):\n",
    "        self.data = data\n",
    "        self.scaler = MinMaxScaler()\n",
    "        self.data['rating'] = self.scaler.fit_transform(self.data['rating'].values.reshape(-1, 1))\n",
    "    \n",
    "    def __len__(self):\n",
    "        return len(self.data)\n",
    "    \n",
    "    def __getitem__(self, idx):\n",
    "        user = self.data['userId'].iloc[idx]\n",
    "        item = self.data['itemId'].iloc[idx]\n",
    "        rating = self.data['rating'].iloc[idx]\n",
    "        return {'user': torch.tensor(user),\n",
    "                'item': torch.tensor(item),\n",
    "                'rating': torch.tensor(rating)}"
   ]
  },
  {
   "cell_type": "code",
   "execution_count": 58,
   "metadata": {},
   "outputs": [],
   "source": [
    "class DANNModel(nn.Module):\n",
    "    def __init__(self):\n",
    "        super(DANNModel, self).__init__()\n",
    "        self.feature_extractor = nn.Sequential(\n",
    "            nn.Linear(2, 64),\n",
    "            nn.ReLU(),\n",
    "            nn.Linear(64, 64),\n",
    "            nn.ReLU(),\n",
    "        )\n",
    "        self.classifier = nn.Sequential(\n",
    "            nn.Linear(64, 32),\n",
    "            nn.ReLU(),\n",
    "            nn.Linear(32, 1),\n",
    "            nn.Sigmoid()\n",
    "        )\n",
    "        self.domain_classifier = nn.Sequential(\n",
    "            nn.Linear(64, 32),\n",
    "            nn.ReLU(),\n",
    "            nn.Linear(32, 1),\n",
    "            nn.Sigmoid()\n",
    "        )\n",
    "        \n",
    "    def forward(self, x, alpha=0.1):\n",
    "        feature = self.feature_extractor(x)\n",
    "        label_output = self.classifier(feature)\n",
    "        domain_output = self.domain_classifier(feature)\n",
    "        return label_output, domain_output\n",
    "    \n",
    "    def domain_loss(self, domain_output, domain_labels):\n",
    "        domain_loss_fn = nn.BCELoss()\n",
    "        return domain_loss_fn(domain_output, domain_labels)\n",
    "    \n",
    "    def label_loss(self, label_output, labels):\n",
    "        label_loss_fn = nn.MSELoss()\n",
    "        return label_loss_fn(label_output.squeeze(), labels)\n",
    "        "
   ]
  },
  {
   "cell_type": "code",
   "execution_count": 69,
   "metadata": {},
   "outputs": [],
   "source": [
    "def train_model(source_data, target_data, model, optimizer, device, epochs):\n",
    "    source_dataset = RatingDataset(source_data)\n",
    "    target_dataset = RatingDataset(target_data)\n",
    "    source_loader = DataLoader(source_dataset, batch_size=32, shuffle=True)\n",
    "    target_loader = DataLoader(target_dataset, batch_size=32, shuffle=True)\n",
    "    \n",
    "    for epoch in range(epochs):\n",
    "        model.train()\n",
    "        for batch_idx, source_batch in enumerate(source_loader):\n",
    "            target_batch = next(iter(target_loader))\n",
    "            \n",
    "            source_inputs = torch.stack([source_batch['user'], source_batch['item']], dim=1).float().to(device)\n",
    "            source_labels = source_batch['rating'].float().to(device)\n",
    "            \n",
    "            target_inputs = torch.stack([target_batch['user'], target_batch['item']], dim=1).float().to(device)\n",
    "\n",
    "            domain_labels = torch.ones(source_inputs.shape[0] + target_inputs.shape[0], 1).to(device) # 32 + 32\n",
    "            #print(source_inputs.shape[0], target_inputs.shape[0])\n",
    "            domain_labels[:source_inputs.shape[0]] = 0\n",
    "            \n",
    "            optimizer.zero_grad()\n",
    "            \n",
    "            label_output, domain_output = model(source_inputs, alpha=0.1)\n",
    "            domain_output = torch.cat((torch.zeros(source_inputs.shape[0], 1).to(device), domain_output), dim=0)\n",
    "#            print(domain_output.shape) # 32\n",
    "            label_loss = model.label_loss(label_output, source_labels)\n",
    "            domain_loss = model.domain_loss(domain_output, domain_labels)\n",
    "            \n",
    "            loss = label_loss + domain_loss\n",
    "            loss.backward()\n",
    "\n",
    "            optimizer.step()\n",
    "\n",
    "            if batch_idx % 100 == 0:\n",
    "                print('Epoch: {} [{}/{} ({:.0f}%)]\\tLoss: {:.6f}\\tLabel Loss: {:.6f}\\tDomain Loss: {:.6f}'.format(\n",
    "                    epoch, batch_idx * len(source_inputs), len(source_loader.dataset),\n",
    "                    100. * batch_idx / len(source_loader), loss.item(), label_loss.item(), domain_loss.item()))\n",
    "                \n",
    "    \n"
   ]
  },
  {
   "cell_type": "code",
   "execution_count": 60,
   "metadata": {},
   "outputs": [],
   "source": [
    "\n",
    "def test_model(target_data, model, device):\n",
    "    target_dataset = RatingDataset(target_data)\n",
    "    target_loader = DataLoader(target_dataset, batch_size=32, shuffle=True)\n",
    "    model.eval()\n",
    "    test_loss = 0\n",
    "    correct = 0\n",
    "    with torch.no_grad():\n",
    "        for target_batch in target_loader:\n",
    "            target_inputs = torch.stack([target_batch['user'], target_batch['item']], dim=1).float().to(device)\n",
    "            target_labels = target_batch['rating'].float().to(device)\n",
    "            label_output, domain_output = model(target_inputs, alpha=0.1)\n",
    "            test_loss += model.label_loss(label_output, target_labels).item() # sum up batch loss\n",
    "            pred = label_output.squeeze().round()\n",
    "            correct += pred.eq(target_labels.view_as(pred)).sum().item()\n",
    "\n",
    "    test_loss /= len(target_loader.dataset)\n",
    "\n",
    "    print('\\nTest set: Average loss: {:.4f}, Accuracy: {}/{} ({:.0f}%)\\n'.format(\n",
    "        test_loss, correct, len(target_loader.dataset),\n",
    "        100. * correct / len(target_loader.dataset)))"
   ]
  },
  {
   "cell_type": "code",
   "execution_count": 32,
   "metadata": {},
   "outputs": [],
   "source": [
    "source_datapath = os.path.join('..', 'Model', 'ml-latest-small', 'ratings.csv')\n",
    "target_datapath = os.path.join('..', '..', 'Dataset', 'all_recipe_cocktail_reviews.json')"
   ]
  },
  {
   "cell_type": "code",
   "execution_count": 40,
   "metadata": {},
   "outputs": [],
   "source": [
    "def main():\n",
    "    source_data = pd.read_csv(source_datapath)\n",
    "    target_data = pd.read_json(target_datapath)[\"cocktail_reviews\"].apply(pd.Series)\n",
    "\n",
    "    # userId == 'Allrecipes Member'인 데이터 제거\n",
    "    target_data = target_data[target_data[\"User\"] != \"Allrecipes Member\"]\n",
    "\n",
    "    # json을 Dataframe으로 변환\n",
    "    allRecipe_userMapping = {name:idx for idx, name in enumerate(target_data[\"User\"].unique())}\n",
    "    allRecipe_cocktailMapping = {name:idx for idx, name in enumerate(target_data[\"Cocktail\"].unique())}\n",
    "\n",
    "    # Dataframe의 User, Item을 숫자로 변환\n",
    "    target_data[\"User\"] = target_data[\"User\"].apply(lambda x: allRecipe_userMapping[x]+1)\n",
    "    target_data[\"Cocktail\"] = target_data[\"Cocktail\"].apply(lambda x: allRecipe_cocktailMapping[x]+1)\n",
    "\n",
    "    target_data = target_data[[\"User\", \"Cocktail\", \"Rating\", \"Date\"]]\n",
    "    target_data.columns = [\"userId\", \"cocktailId\", \"rating\", \"timestamp\"]\n",
    "\n",
    "    model = DANNModel()\n",
    "    optimizer = optim.Adam(model.parameters(), lr=1e-3)\n",
    "    device = torch.device(\"cuda\" if torch.cuda.is_available() else \"cpu\")\n",
    "    model.to(device)\n",
    "    train_model(source_data, target_data, model, optimizer, device, epochs=10)\n",
    "    test_model(target_data, model, device)"
   ]
  },
  {
   "cell_type": "code",
   "execution_count": 50,
   "metadata": {},
   "outputs": [],
   "source": [
    "source_data = pd.read_csv(source_datapath)\n",
    "target_data = pd.read_json(target_datapath)[\"cocktail_reviews\"].apply(pd.Series)\n",
    "\n",
    "# userId == 'Allrecipes Member'인 데이터 제거\n",
    "target_data = target_data[target_data[\"User\"] != \"Allrecipes Member\"]\n",
    "\n",
    "# json을 Dataframe으로 변환\n",
    "allRecipe_userMapping = {name:idx for idx, name in enumerate(target_data[\"User\"].unique())}\n",
    "allRecipe_cocktailMapping = {name:idx for idx, name in enumerate(target_data[\"Cocktail\"].unique())}\n",
    "\n",
    "# Dataframe의 User, Item을 숫자로 변환\n",
    "target_data[\"User\"] = target_data[\"User\"].apply(lambda x: allRecipe_userMapping[x]+1)\n",
    "target_data[\"Cocktail\"] = target_data[\"Cocktail\"].apply(lambda x: allRecipe_cocktailMapping[x]+1)\n",
    "\n",
    "target_data = target_data[[\"User\", \"Cocktail\", \"Rating\", \"Date\"]]\n",
    "target_data.columns = [\"userId\", \"itemId\", \"rating\", \"timestamp\"]\n",
    "\n",
    "source_data.columns = [\"userId\", \"itemId\", \"rating\", \"timestamp\"]\n"
   ]
  },
  {
   "cell_type": "code",
   "execution_count": 70,
   "metadata": {},
   "outputs": [
    {
     "data": {
      "text/plain": [
       "DANNModel(\n",
       "  (feature_extractor): Sequential(\n",
       "    (0): Linear(in_features=2, out_features=64, bias=True)\n",
       "    (1): ReLU()\n",
       "    (2): Linear(in_features=64, out_features=64, bias=True)\n",
       "    (3): ReLU()\n",
       "  )\n",
       "  (classifier): Sequential(\n",
       "    (0): Linear(in_features=64, out_features=32, bias=True)\n",
       "    (1): ReLU()\n",
       "    (2): Linear(in_features=32, out_features=1, bias=True)\n",
       "    (3): Sigmoid()\n",
       "  )\n",
       "  (domain_classifier): Sequential(\n",
       "    (0): Linear(in_features=64, out_features=32, bias=True)\n",
       "    (1): ReLU()\n",
       "    (2): Linear(in_features=32, out_features=1, bias=True)\n",
       "    (3): Sigmoid()\n",
       "  )\n",
       ")"
      ]
     },
     "execution_count": 70,
     "metadata": {},
     "output_type": "execute_result"
    }
   ],
   "source": [
    "model = DANNModel()\n",
    "optimizer = optim.Adam(model.parameters(), lr=1e-3)\n",
    "device = torch.device(\"cuda\" if torch.cuda.is_available() else \"cpu\")\n",
    "model.to(device)"
   ]
  },
  {
   "cell_type": "code",
   "execution_count": 71,
   "metadata": {},
   "outputs": [
    {
     "name": "stdout",
     "output_type": "stream",
     "text": [
      "Epoch: 0 [0/100836 (0%)]\tLoss: 0.176379\tLabel Loss: 0.163765\tDomain Loss: 0.012614\n",
      "Epoch: 0 [3200/100836 (3%)]\tLoss: 0.207176\tLabel Loss: 0.207176\tDomain Loss: 0.000000\n",
      "Epoch: 0 [6400/100836 (6%)]\tLoss: 0.130853\tLabel Loss: 0.130853\tDomain Loss: 0.000000\n",
      "Epoch: 0 [9600/100836 (10%)]\tLoss: 0.133693\tLabel Loss: 0.133693\tDomain Loss: 0.000000\n",
      "Epoch: 0 [12800/100836 (13%)]\tLoss: 0.123843\tLabel Loss: 0.123843\tDomain Loss: 0.000000\n",
      "Epoch: 0 [16000/100836 (16%)]\tLoss: 0.140046\tLabel Loss: 0.140046\tDomain Loss: 0.000000\n",
      "Epoch: 0 [19200/100836 (19%)]\tLoss: 0.105710\tLabel Loss: 0.105710\tDomain Loss: 0.000000\n",
      "Epoch: 0 [22400/100836 (22%)]\tLoss: 0.217931\tLabel Loss: 0.217931\tDomain Loss: 0.000000\n",
      "Epoch: 0 [25600/100836 (25%)]\tLoss: 0.227622\tLabel Loss: 0.227622\tDomain Loss: 0.000000\n",
      "Epoch: 0 [28800/100836 (29%)]\tLoss: 0.208333\tLabel Loss: 0.208333\tDomain Loss: 0.000000\n",
      "Epoch: 0 [32000/100836 (32%)]\tLoss: 0.153549\tLabel Loss: 0.153549\tDomain Loss: 0.000000\n",
      "Epoch: 0 [35200/100836 (35%)]\tLoss: 0.146323\tLabel Loss: 0.146323\tDomain Loss: 0.000000\n",
      "Epoch: 0 [38400/100836 (38%)]\tLoss: 0.193934\tLabel Loss: 0.193934\tDomain Loss: 0.000000\n",
      "Epoch: 0 [41600/100836 (41%)]\tLoss: 0.165509\tLabel Loss: 0.165509\tDomain Loss: 0.000000\n",
      "Epoch: 0 [44800/100836 (44%)]\tLoss: 0.122890\tLabel Loss: 0.122890\tDomain Loss: 0.000000\n",
      "Epoch: 0 [48000/100836 (48%)]\tLoss: 0.161586\tLabel Loss: 0.161586\tDomain Loss: 0.000000\n",
      "Epoch: 0 [51200/100836 (51%)]\tLoss: 0.056742\tLabel Loss: 0.047354\tDomain Loss: 0.009388\n",
      "Epoch: 0 [54400/100836 (54%)]\tLoss: 0.040787\tLabel Loss: 0.037690\tDomain Loss: 0.003097\n",
      "Epoch: 0 [57600/100836 (57%)]\tLoss: 0.055740\tLabel Loss: 0.054021\tDomain Loss: 0.001718\n",
      "Epoch: 0 [60800/100836 (60%)]\tLoss: 0.043478\tLabel Loss: 0.042342\tDomain Loss: 0.001136\n",
      "Epoch: 0 [64000/100836 (63%)]\tLoss: 0.081850\tLabel Loss: 0.081027\tDomain Loss: 0.000823\n",
      "Epoch: 0 [67200/100836 (67%)]\tLoss: 0.063949\tLabel Loss: 0.063319\tDomain Loss: 0.000630\n",
      "Epoch: 0 [70400/100836 (70%)]\tLoss: 0.042180\tLabel Loss: 0.041679\tDomain Loss: 0.000501\n",
      "Epoch: 0 [73600/100836 (73%)]\tLoss: 0.033903\tLabel Loss: 0.033494\tDomain Loss: 0.000409\n",
      "Epoch: 0 [76800/100836 (76%)]\tLoss: 0.057026\tLabel Loss: 0.056685\tDomain Loss: 0.000341\n",
      "Epoch: 0 [80000/100836 (79%)]\tLoss: 0.062827\tLabel Loss: 0.062538\tDomain Loss: 0.000289\n",
      "Epoch: 0 [83200/100836 (82%)]\tLoss: 0.049729\tLabel Loss: 0.049480\tDomain Loss: 0.000248\n",
      "Epoch: 0 [86400/100836 (86%)]\tLoss: 0.056541\tLabel Loss: 0.056326\tDomain Loss: 0.000215\n",
      "Epoch: 0 [89600/100836 (89%)]\tLoss: 0.059745\tLabel Loss: 0.059557\tDomain Loss: 0.000189\n",
      "Epoch: 0 [92800/100836 (92%)]\tLoss: 0.032071\tLabel Loss: 0.031905\tDomain Loss: 0.000166\n",
      "Epoch: 0 [96000/100836 (95%)]\tLoss: 0.045258\tLabel Loss: 0.045111\tDomain Loss: 0.000148\n",
      "Epoch: 0 [99200/100836 (98%)]\tLoss: 0.037161\tLabel Loss: 0.037029\tDomain Loss: 0.000132\n"
     ]
    },
    {
     "ename": "ValueError",
     "evalue": "Using a target size (torch.Size([36, 1])) that is different to the input size (torch.Size([8, 1])) is deprecated. Please ensure they have the same size.",
     "output_type": "error",
     "traceback": [
      "\u001b[0;31m---------------------------------------------------------------------------\u001b[0m",
      "\u001b[0;31mValueError\u001b[0m                                Traceback (most recent call last)",
      "Cell \u001b[0;32mIn[71], line 1\u001b[0m\n\u001b[0;32m----> 1\u001b[0m train_model(source_data, target_data, model, optimizer, device, epochs\u001b[39m=\u001b[39;49m\u001b[39m10\u001b[39;49m)\n",
      "Cell \u001b[0;32mIn[69], line 27\u001b[0m, in \u001b[0;36mtrain_model\u001b[0;34m(source_data, target_data, model, optimizer, device, epochs)\u001b[0m\n\u001b[1;32m     25\u001b[0m \u001b[39m#            print(domain_output.shape) # 32\u001b[39;00m\n\u001b[1;32m     26\u001b[0m             label_loss \u001b[39m=\u001b[39m model\u001b[39m.\u001b[39mlabel_loss(label_output, source_labels)\n\u001b[0;32m---> 27\u001b[0m             domain_loss \u001b[39m=\u001b[39m model\u001b[39m.\u001b[39;49mdomain_loss(domain_output, domain_labels)\n\u001b[1;32m     29\u001b[0m             loss \u001b[39m=\u001b[39m label_loss \u001b[39m+\u001b[39m domain_loss\n\u001b[1;32m     30\u001b[0m             loss\u001b[39m.\u001b[39mbackward()\n",
      "Cell \u001b[0;32mIn[58], line 31\u001b[0m, in \u001b[0;36mDANNModel.domain_loss\u001b[0;34m(self, domain_output, domain_labels)\u001b[0m\n\u001b[1;32m     29\u001b[0m \u001b[39mdef\u001b[39;00m \u001b[39mdomain_loss\u001b[39m(\u001b[39mself\u001b[39m, domain_output, domain_labels):\n\u001b[1;32m     30\u001b[0m     domain_loss_fn \u001b[39m=\u001b[39m nn\u001b[39m.\u001b[39mBCELoss()\n\u001b[0;32m---> 31\u001b[0m     \u001b[39mreturn\u001b[39;00m domain_loss_fn(domain_output, domain_labels)\n",
      "File \u001b[0;32m~/myWorks/blue/PRADA_AI/.venv/lib/python3.8/site-packages/torch/nn/modules/module.py:1501\u001b[0m, in \u001b[0;36mModule._call_impl\u001b[0;34m(self, *args, **kwargs)\u001b[0m\n\u001b[1;32m   1496\u001b[0m \u001b[39m# If we don't have any hooks, we want to skip the rest of the logic in\u001b[39;00m\n\u001b[1;32m   1497\u001b[0m \u001b[39m# this function, and just call forward.\u001b[39;00m\n\u001b[1;32m   1498\u001b[0m \u001b[39mif\u001b[39;00m \u001b[39mnot\u001b[39;00m (\u001b[39mself\u001b[39m\u001b[39m.\u001b[39m_backward_hooks \u001b[39mor\u001b[39;00m \u001b[39mself\u001b[39m\u001b[39m.\u001b[39m_backward_pre_hooks \u001b[39mor\u001b[39;00m \u001b[39mself\u001b[39m\u001b[39m.\u001b[39m_forward_hooks \u001b[39mor\u001b[39;00m \u001b[39mself\u001b[39m\u001b[39m.\u001b[39m_forward_pre_hooks\n\u001b[1;32m   1499\u001b[0m         \u001b[39mor\u001b[39;00m _global_backward_pre_hooks \u001b[39mor\u001b[39;00m _global_backward_hooks\n\u001b[1;32m   1500\u001b[0m         \u001b[39mor\u001b[39;00m _global_forward_hooks \u001b[39mor\u001b[39;00m _global_forward_pre_hooks):\n\u001b[0;32m-> 1501\u001b[0m     \u001b[39mreturn\u001b[39;00m forward_call(\u001b[39m*\u001b[39;49margs, \u001b[39m*\u001b[39;49m\u001b[39m*\u001b[39;49mkwargs)\n\u001b[1;32m   1502\u001b[0m \u001b[39m# Do not call functions when jit is used\u001b[39;00m\n\u001b[1;32m   1503\u001b[0m full_backward_hooks, non_full_backward_hooks \u001b[39m=\u001b[39m [], []\n",
      "File \u001b[0;32m~/myWorks/blue/PRADA_AI/.venv/lib/python3.8/site-packages/torch/nn/modules/loss.py:619\u001b[0m, in \u001b[0;36mBCELoss.forward\u001b[0;34m(self, input, target)\u001b[0m\n\u001b[1;32m    618\u001b[0m \u001b[39mdef\u001b[39;00m \u001b[39mforward\u001b[39m(\u001b[39mself\u001b[39m, \u001b[39minput\u001b[39m: Tensor, target: Tensor) \u001b[39m-\u001b[39m\u001b[39m>\u001b[39m Tensor:\n\u001b[0;32m--> 619\u001b[0m     \u001b[39mreturn\u001b[39;00m F\u001b[39m.\u001b[39;49mbinary_cross_entropy(\u001b[39minput\u001b[39;49m, target, weight\u001b[39m=\u001b[39;49m\u001b[39mself\u001b[39;49m\u001b[39m.\u001b[39;49mweight, reduction\u001b[39m=\u001b[39;49m\u001b[39mself\u001b[39;49m\u001b[39m.\u001b[39;49mreduction)\n",
      "File \u001b[0;32m~/myWorks/blue/PRADA_AI/.venv/lib/python3.8/site-packages/torch/nn/functional.py:3089\u001b[0m, in \u001b[0;36mbinary_cross_entropy\u001b[0;34m(input, target, weight, size_average, reduce, reduction)\u001b[0m\n\u001b[1;32m   3087\u001b[0m     reduction_enum \u001b[39m=\u001b[39m _Reduction\u001b[39m.\u001b[39mget_enum(reduction)\n\u001b[1;32m   3088\u001b[0m \u001b[39mif\u001b[39;00m target\u001b[39m.\u001b[39msize() \u001b[39m!=\u001b[39m \u001b[39minput\u001b[39m\u001b[39m.\u001b[39msize():\n\u001b[0;32m-> 3089\u001b[0m     \u001b[39mraise\u001b[39;00m \u001b[39mValueError\u001b[39;00m(\n\u001b[1;32m   3090\u001b[0m         \u001b[39m\"\u001b[39m\u001b[39mUsing a target size (\u001b[39m\u001b[39m{}\u001b[39;00m\u001b[39m) that is different to the input size (\u001b[39m\u001b[39m{}\u001b[39;00m\u001b[39m) is deprecated. \u001b[39m\u001b[39m\"\u001b[39m\n\u001b[1;32m   3091\u001b[0m         \u001b[39m\"\u001b[39m\u001b[39mPlease ensure they have the same size.\u001b[39m\u001b[39m\"\u001b[39m\u001b[39m.\u001b[39mformat(target\u001b[39m.\u001b[39msize(), \u001b[39minput\u001b[39m\u001b[39m.\u001b[39msize())\n\u001b[1;32m   3092\u001b[0m     )\n\u001b[1;32m   3094\u001b[0m \u001b[39mif\u001b[39;00m weight \u001b[39mis\u001b[39;00m \u001b[39mnot\u001b[39;00m \u001b[39mNone\u001b[39;00m:\n\u001b[1;32m   3095\u001b[0m     new_size \u001b[39m=\u001b[39m _infer_size(target\u001b[39m.\u001b[39msize(), weight\u001b[39m.\u001b[39msize())\n",
      "\u001b[0;31mValueError\u001b[0m: Using a target size (torch.Size([36, 1])) that is different to the input size (torch.Size([8, 1])) is deprecated. Please ensure they have the same size."
     ]
    }
   ],
   "source": [
    "train_model(source_data, target_data, model, optimizer, device, epochs=10)\n"
   ]
  },
  {
   "cell_type": "code",
   "execution_count": 46,
   "metadata": {},
   "outputs": [
    {
     "ename": "KeyError",
     "evalue": "'user_id'",
     "output_type": "error",
     "traceback": [
      "\u001b[0;31m---------------------------------------------------------------------------\u001b[0m",
      "\u001b[0;31mKeyError\u001b[0m                                  Traceback (most recent call last)",
      "File \u001b[0;32m~/myWorks/blue/PRADA_AI/.venv/lib/python3.8/site-packages/pandas/core/indexes/base.py:3652\u001b[0m, in \u001b[0;36mIndex.get_loc\u001b[0;34m(self, key)\u001b[0m\n\u001b[1;32m   3651\u001b[0m \u001b[39mtry\u001b[39;00m:\n\u001b[0;32m-> 3652\u001b[0m     \u001b[39mreturn\u001b[39;00m \u001b[39mself\u001b[39;49m\u001b[39m.\u001b[39;49m_engine\u001b[39m.\u001b[39;49mget_loc(casted_key)\n\u001b[1;32m   3653\u001b[0m \u001b[39mexcept\u001b[39;00m \u001b[39mKeyError\u001b[39;00m \u001b[39mas\u001b[39;00m err:\n",
      "File \u001b[0;32m~/myWorks/blue/PRADA_AI/.venv/lib/python3.8/site-packages/pandas/_libs/index.pyx:147\u001b[0m, in \u001b[0;36mpandas._libs.index.IndexEngine.get_loc\u001b[0;34m()\u001b[0m\n",
      "File \u001b[0;32m~/myWorks/blue/PRADA_AI/.venv/lib/python3.8/site-packages/pandas/_libs/index.pyx:176\u001b[0m, in \u001b[0;36mpandas._libs.index.IndexEngine.get_loc\u001b[0;34m()\u001b[0m\n",
      "File \u001b[0;32mpandas/_libs/hashtable_class_helper.pxi:7080\u001b[0m, in \u001b[0;36mpandas._libs.hashtable.PyObjectHashTable.get_item\u001b[0;34m()\u001b[0m\n",
      "File \u001b[0;32mpandas/_libs/hashtable_class_helper.pxi:7088\u001b[0m, in \u001b[0;36mpandas._libs.hashtable.PyObjectHashTable.get_item\u001b[0;34m()\u001b[0m\n",
      "\u001b[0;31mKeyError\u001b[0m: 'user_id'",
      "\nThe above exception was the direct cause of the following exception:\n",
      "\u001b[0;31mKeyError\u001b[0m                                  Traceback (most recent call last)",
      "Cell \u001b[0;32mIn[46], line 1\u001b[0m\n\u001b[0;32m----> 1\u001b[0m test_model(target_data, model, device)\n",
      "Cell \u001b[0;32mIn[5], line 8\u001b[0m, in \u001b[0;36mtest_model\u001b[0;34m(target_data, model, device)\u001b[0m\n\u001b[1;32m      6\u001b[0m correct \u001b[39m=\u001b[39m \u001b[39m0\u001b[39m\n\u001b[1;32m      7\u001b[0m \u001b[39mwith\u001b[39;00m torch\u001b[39m.\u001b[39mno_grad():\n\u001b[0;32m----> 8\u001b[0m     \u001b[39mfor\u001b[39;00m target_batch \u001b[39min\u001b[39;00m target_loader:\n\u001b[1;32m      9\u001b[0m         target_inputs \u001b[39m=\u001b[39m torch\u001b[39m.\u001b[39mstack([target_batch[\u001b[39m'\u001b[39m\u001b[39muser\u001b[39m\u001b[39m'\u001b[39m], target_batch[\u001b[39m'\u001b[39m\u001b[39mitem\u001b[39m\u001b[39m'\u001b[39m]], dim\u001b[39m=\u001b[39m\u001b[39m1\u001b[39m)\u001b[39m.\u001b[39mfloat()\u001b[39m.\u001b[39mto(device)\n\u001b[1;32m     10\u001b[0m         target_labels \u001b[39m=\u001b[39m target_batch[\u001b[39m'\u001b[39m\u001b[39mrating\u001b[39m\u001b[39m'\u001b[39m]\u001b[39m.\u001b[39mfloat()\u001b[39m.\u001b[39mto(device)\n",
      "File \u001b[0;32m~/myWorks/blue/PRADA_AI/.venv/lib/python3.8/site-packages/torch/utils/data/dataloader.py:634\u001b[0m, in \u001b[0;36m_BaseDataLoaderIter.__next__\u001b[0;34m(self)\u001b[0m\n\u001b[1;32m    631\u001b[0m \u001b[39mif\u001b[39;00m \u001b[39mself\u001b[39m\u001b[39m.\u001b[39m_sampler_iter \u001b[39mis\u001b[39;00m \u001b[39mNone\u001b[39;00m:\n\u001b[1;32m    632\u001b[0m     \u001b[39m# TODO(https://github.com/pytorch/pytorch/issues/76750)\u001b[39;00m\n\u001b[1;32m    633\u001b[0m     \u001b[39mself\u001b[39m\u001b[39m.\u001b[39m_reset()  \u001b[39m# type: ignore[call-arg]\u001b[39;00m\n\u001b[0;32m--> 634\u001b[0m data \u001b[39m=\u001b[39m \u001b[39mself\u001b[39;49m\u001b[39m.\u001b[39;49m_next_data()\n\u001b[1;32m    635\u001b[0m \u001b[39mself\u001b[39m\u001b[39m.\u001b[39m_num_yielded \u001b[39m+\u001b[39m\u001b[39m=\u001b[39m \u001b[39m1\u001b[39m\n\u001b[1;32m    636\u001b[0m \u001b[39mif\u001b[39;00m \u001b[39mself\u001b[39m\u001b[39m.\u001b[39m_dataset_kind \u001b[39m==\u001b[39m _DatasetKind\u001b[39m.\u001b[39mIterable \u001b[39mand\u001b[39;00m \\\n\u001b[1;32m    637\u001b[0m         \u001b[39mself\u001b[39m\u001b[39m.\u001b[39m_IterableDataset_len_called \u001b[39mis\u001b[39;00m \u001b[39mnot\u001b[39;00m \u001b[39mNone\u001b[39;00m \u001b[39mand\u001b[39;00m \\\n\u001b[1;32m    638\u001b[0m         \u001b[39mself\u001b[39m\u001b[39m.\u001b[39m_num_yielded \u001b[39m>\u001b[39m \u001b[39mself\u001b[39m\u001b[39m.\u001b[39m_IterableDataset_len_called:\n",
      "File \u001b[0;32m~/myWorks/blue/PRADA_AI/.venv/lib/python3.8/site-packages/torch/utils/data/dataloader.py:678\u001b[0m, in \u001b[0;36m_SingleProcessDataLoaderIter._next_data\u001b[0;34m(self)\u001b[0m\n\u001b[1;32m    676\u001b[0m \u001b[39mdef\u001b[39;00m \u001b[39m_next_data\u001b[39m(\u001b[39mself\u001b[39m):\n\u001b[1;32m    677\u001b[0m     index \u001b[39m=\u001b[39m \u001b[39mself\u001b[39m\u001b[39m.\u001b[39m_next_index()  \u001b[39m# may raise StopIteration\u001b[39;00m\n\u001b[0;32m--> 678\u001b[0m     data \u001b[39m=\u001b[39m \u001b[39mself\u001b[39;49m\u001b[39m.\u001b[39;49m_dataset_fetcher\u001b[39m.\u001b[39;49mfetch(index)  \u001b[39m# may raise StopIteration\u001b[39;00m\n\u001b[1;32m    679\u001b[0m     \u001b[39mif\u001b[39;00m \u001b[39mself\u001b[39m\u001b[39m.\u001b[39m_pin_memory:\n\u001b[1;32m    680\u001b[0m         data \u001b[39m=\u001b[39m _utils\u001b[39m.\u001b[39mpin_memory\u001b[39m.\u001b[39mpin_memory(data, \u001b[39mself\u001b[39m\u001b[39m.\u001b[39m_pin_memory_device)\n",
      "File \u001b[0;32m~/myWorks/blue/PRADA_AI/.venv/lib/python3.8/site-packages/torch/utils/data/_utils/fetch.py:51\u001b[0m, in \u001b[0;36m_MapDatasetFetcher.fetch\u001b[0;34m(self, possibly_batched_index)\u001b[0m\n\u001b[1;32m     49\u001b[0m         data \u001b[39m=\u001b[39m \u001b[39mself\u001b[39m\u001b[39m.\u001b[39mdataset\u001b[39m.\u001b[39m__getitems__(possibly_batched_index)\n\u001b[1;32m     50\u001b[0m     \u001b[39melse\u001b[39;00m:\n\u001b[0;32m---> 51\u001b[0m         data \u001b[39m=\u001b[39m [\u001b[39mself\u001b[39m\u001b[39m.\u001b[39mdataset[idx] \u001b[39mfor\u001b[39;00m idx \u001b[39min\u001b[39;00m possibly_batched_index]\n\u001b[1;32m     52\u001b[0m \u001b[39melse\u001b[39;00m:\n\u001b[1;32m     53\u001b[0m     data \u001b[39m=\u001b[39m \u001b[39mself\u001b[39m\u001b[39m.\u001b[39mdataset[possibly_batched_index]\n",
      "File \u001b[0;32m~/myWorks/blue/PRADA_AI/.venv/lib/python3.8/site-packages/torch/utils/data/_utils/fetch.py:51\u001b[0m, in \u001b[0;36m<listcomp>\u001b[0;34m(.0)\u001b[0m\n\u001b[1;32m     49\u001b[0m         data \u001b[39m=\u001b[39m \u001b[39mself\u001b[39m\u001b[39m.\u001b[39mdataset\u001b[39m.\u001b[39m__getitems__(possibly_batched_index)\n\u001b[1;32m     50\u001b[0m     \u001b[39melse\u001b[39;00m:\n\u001b[0;32m---> 51\u001b[0m         data \u001b[39m=\u001b[39m [\u001b[39mself\u001b[39;49m\u001b[39m.\u001b[39;49mdataset[idx] \u001b[39mfor\u001b[39;00m idx \u001b[39min\u001b[39;00m possibly_batched_index]\n\u001b[1;32m     52\u001b[0m \u001b[39melse\u001b[39;00m:\n\u001b[1;32m     53\u001b[0m     data \u001b[39m=\u001b[39m \u001b[39mself\u001b[39m\u001b[39m.\u001b[39mdataset[possibly_batched_index]\n",
      "Cell \u001b[0;32mIn[2], line 11\u001b[0m, in \u001b[0;36mRatingDataset.__getitem__\u001b[0;34m(self, idx)\u001b[0m\n\u001b[1;32m     10\u001b[0m \u001b[39mdef\u001b[39;00m \u001b[39m__getitem__\u001b[39m(\u001b[39mself\u001b[39m, idx):\n\u001b[0;32m---> 11\u001b[0m     user \u001b[39m=\u001b[39m \u001b[39mself\u001b[39;49m\u001b[39m.\u001b[39;49mdata[\u001b[39m'\u001b[39;49m\u001b[39muser_id\u001b[39;49m\u001b[39m'\u001b[39;49m]\u001b[39m.\u001b[39miloc[idx]\n\u001b[1;32m     12\u001b[0m     item \u001b[39m=\u001b[39m \u001b[39mself\u001b[39m\u001b[39m.\u001b[39mdata[\u001b[39m'\u001b[39m\u001b[39mitem_id\u001b[39m\u001b[39m'\u001b[39m]\u001b[39m.\u001b[39miloc[idx]\n\u001b[1;32m     13\u001b[0m     rating \u001b[39m=\u001b[39m \u001b[39mself\u001b[39m\u001b[39m.\u001b[39mdata[\u001b[39m'\u001b[39m\u001b[39mrating\u001b[39m\u001b[39m'\u001b[39m]\u001b[39m.\u001b[39miloc[idx]\n",
      "File \u001b[0;32m~/myWorks/blue/PRADA_AI/.venv/lib/python3.8/site-packages/pandas/core/frame.py:3760\u001b[0m, in \u001b[0;36mDataFrame.__getitem__\u001b[0;34m(self, key)\u001b[0m\n\u001b[1;32m   3758\u001b[0m \u001b[39mif\u001b[39;00m \u001b[39mself\u001b[39m\u001b[39m.\u001b[39mcolumns\u001b[39m.\u001b[39mnlevels \u001b[39m>\u001b[39m \u001b[39m1\u001b[39m:\n\u001b[1;32m   3759\u001b[0m     \u001b[39mreturn\u001b[39;00m \u001b[39mself\u001b[39m\u001b[39m.\u001b[39m_getitem_multilevel(key)\n\u001b[0;32m-> 3760\u001b[0m indexer \u001b[39m=\u001b[39m \u001b[39mself\u001b[39;49m\u001b[39m.\u001b[39;49mcolumns\u001b[39m.\u001b[39;49mget_loc(key)\n\u001b[1;32m   3761\u001b[0m \u001b[39mif\u001b[39;00m is_integer(indexer):\n\u001b[1;32m   3762\u001b[0m     indexer \u001b[39m=\u001b[39m [indexer]\n",
      "File \u001b[0;32m~/myWorks/blue/PRADA_AI/.venv/lib/python3.8/site-packages/pandas/core/indexes/base.py:3654\u001b[0m, in \u001b[0;36mIndex.get_loc\u001b[0;34m(self, key)\u001b[0m\n\u001b[1;32m   3652\u001b[0m     \u001b[39mreturn\u001b[39;00m \u001b[39mself\u001b[39m\u001b[39m.\u001b[39m_engine\u001b[39m.\u001b[39mget_loc(casted_key)\n\u001b[1;32m   3653\u001b[0m \u001b[39mexcept\u001b[39;00m \u001b[39mKeyError\u001b[39;00m \u001b[39mas\u001b[39;00m err:\n\u001b[0;32m-> 3654\u001b[0m     \u001b[39mraise\u001b[39;00m \u001b[39mKeyError\u001b[39;00m(key) \u001b[39mfrom\u001b[39;00m \u001b[39merr\u001b[39;00m\n\u001b[1;32m   3655\u001b[0m \u001b[39mexcept\u001b[39;00m \u001b[39mTypeError\u001b[39;00m:\n\u001b[1;32m   3656\u001b[0m     \u001b[39m# If we have a listlike key, _check_indexing_error will raise\u001b[39;00m\n\u001b[1;32m   3657\u001b[0m     \u001b[39m#  InvalidIndexError. Otherwise we fall through and re-raise\u001b[39;00m\n\u001b[1;32m   3658\u001b[0m     \u001b[39m#  the TypeError.\u001b[39;00m\n\u001b[1;32m   3659\u001b[0m     \u001b[39mself\u001b[39m\u001b[39m.\u001b[39m_check_indexing_error(key)\n",
      "\u001b[0;31mKeyError\u001b[0m: 'user_id'"
     ]
    }
   ],
   "source": [
    "test_model(target_data, model, device)"
   ]
  }
 ],
 "metadata": {
  "kernelspec": {
   "display_name": ".venv",
   "language": "python",
   "name": "python3"
  },
  "language_info": {
   "codemirror_mode": {
    "name": "ipython",
    "version": 3
   },
   "file_extension": ".py",
   "mimetype": "text/x-python",
   "name": "python",
   "nbconvert_exporter": "python",
   "pygments_lexer": "ipython3",
   "version": "3.8.10"
  },
  "orig_nbformat": 4
 },
 "nbformat": 4,
 "nbformat_minor": 2
}
